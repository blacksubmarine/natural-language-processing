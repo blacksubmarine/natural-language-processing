{
 "cells": [
  {
   "cell_type": "markdown",
   "metadata": {},
   "source": [
    "# Procesamiento del Lenguaje Natural\n",
    "## Práctica 1\n",
    "\n",
    "Dado el corpus proporcionado, obtener la curva de Zipf de las palabras en escala logarítmica."
   ]
  },
  {
   "cell_type": "code",
   "execution_count": 97,
   "metadata": {},
   "outputs": [],
   "source": [
    "import os\n",
    "import re\n",
    "import nltk\n",
    "import numpy as np\n",
    "import matplotlib.pyplot as plt\n",
    "from nltk.stem import PorterStemmer\n",
    "%matplotlib inline\n",
    "#nltk.download()"
   ]
  },
  {
   "cell_type": "code",
   "execution_count": 2,
   "metadata": {},
   "outputs": [
    {
     "data": {
      "text/plain": [
       "['acustica (1).txt',\n",
       " 'acustica (2).txt',\n",
       " 'acustica (3).txt',\n",
       " 'acustica (4).txt']"
      ]
     },
     "execution_count": 2,
     "metadata": {},
     "output_type": "execute_result"
    }
   ],
   "source": [
    "# Obtener el nombre de los corpus\n",
    "file_path = 'CorpusDocs/'\n",
    "file_names = sorted(os.listdir(file_path))\n",
    "file_names[:4]"
   ]
  },
  {
   "cell_type": "code",
   "execution_count": 3,
   "metadata": {},
   "outputs": [],
   "source": [
    "# Lista para almacenar los corpus originales\n",
    "corpus = []"
   ]
  },
  {
   "cell_type": "code",
   "execution_count": 4,
   "metadata": {},
   "outputs": [],
   "source": [
    "# Leer los archivos y guardar el texto en la lista de corpus\n",
    "for name in file_names:\n",
    "    with open(file_path + name, 'rt') as file:\n",
    "        text = file.read().lower()\n",
    "        corpus.append(text)"
   ]
  },
  {
   "cell_type": "code",
   "execution_count": 5,
   "metadata": {
    "scrolled": true
   },
   "outputs": [
    {
     "data": {
      "text/plain": [
       "'onda sonora\\nondes compression 2d 20 petit.gif\\nuna onda sonora es una onda longitudinal que transmite lo que se asocia con sonido. si se propaga en un medio elástico y continuo genera una variación local de presión o densidad, que se transmite en forma de onda esférica periódica o cuasiperiódica. mecánicamente las ondas sonoras son un tipo de onda elástica.\\nlas variaciones de presión, humedad o temperatura del medio, producen el desplazamiento de las moléculas que lo forman. cada molécula transmite la vibración a las que se encuentren en su vecindad, provocando un movimiento en cadena. esa propagación del movimiento de las moléculas del medio, producen en el oído humano una sensación descrita como sonido.\\n\\níndice  [ocultar] \\n1 propagación de ondas\\n1.1 modo de propagación\\n1.2 propagación en medios\\n2 percepción humana de las ondas sonoras\\n3 véase también\\npropagación de ondas[editar · editar código]\\n\\nmodo de propagación[editar · editar código]\\nel sonido está formado por ondas mecánicas elásticas longitudinales u ondas de compresión en un medio. eso significa que:\\npara propagarse precisan de un medio material (aire, agua, cuerpo sólido) que transmita la perturbación (viaja más rápido en los sólidos, luego en los líquidos aún más lento en el aire, y en el vacío no se propaga). es el propio medio el que produce y propicia la propagación de estas ondas con su compresión y expansión. para que pueda comprimirse y expandirse es imprescindible que éste sea un medio elástico, ya que un cuerpo totalmente rígido no permite que las vibraciones se transmitan. así pues, sin medio elástico no habría sonido, ya que las ondas sonoras no se propagan en el vacío.\\nademás, los fluidos sólo pueden transmitir movimientos ondulatorios en que la vibración de las partículas se da en dirección paralela a la velocidad de propagación a lo largo de la dirección de propagación. así los gradientes de presión que acompañan a la propagación de una onda sonora se producen en la misma dirección de propagación de la onda, siendo por tanto éstas un tipo de ondas longitudinales (en los sólidos también pueden propagarse ondas elásticas transversales).\\npropagación en medios[editar · editar código]\\nlas ondas sonoras se desplazan también en tres dimensiones y sus frentes de onda en medios isótropos son esferas concéntricas que salen desde el foco de la perturbación en todas las direcciones. por esto son ondas esféricas. los cambios de presión p2 que tienen lugar al paso de una onda sonora tridimensional de frecuencia ν y longitud de onda λ en un medio isótropo y en reposo vienen dados por la ecuación diferencial:\\n\\n\\nondas sonoras generadas por un avión que posee una velocidad menor e igual a la del sonido.\\n(*){\\\\frac  {1}{r^{2}}}{\\\\frac  {\\\\partial }{\\\\partial r}}\\\\left(r^{2}{\\\\frac  {\\\\partial p(r,t)}{\\\\partial r}}\\\\right)-{\\\\frac  {1}{c^{2}}}{\\\\frac  {\\\\partial ^{2}p(r,t)}{\\\\partial t^{2}}}=0\\ndonde r es la distancia al centro emisor de la onda, y c es la velocidad de propagación de la onda. para una onda de período bien definido c=\\\\lambda \\\\nu  y en ese caso la solución de la ecuación, a grandes distancias de la fuente emisora se puede escribir como:\\np(r,t)=p_{0}+{\\\\frac  {\\\\delta p}{r}}\\\\sin \\\\left(2\\\\pi \\\\nu t-2\\\\pi {\\\\frac  {r}{\\\\lambda }}+\\\\phi _{0}\\\\right)\\ndonde p_{0},\\\\delta p\\\\, son respectivamente la presión de inicial del fluido y la sobrepresión máxima que ocasiona el paso de la onda.\\nen el caso de las ondas sonoras ordinarias, casi siempre son la superposición de ondas de diferentes frecuencias y longitudes de onda, y forman pulsos de duración finita. para estas ondas sonoras la velocidad de fase no coincide con la velocidad de grupo o velocidad de propagación del pulso. la velocidad de fase es diferente para cada frecuencia y depende al igual que antes de la relación c=ν•λ. el hecho de que la velocidad de fase sea diferente para cada frecuencia, es responsable de la distorsión del sonido a grandes distancias. en ese caso la solución general de (*) viene dada por:\\np(r,t)=p_{0}+{\\\\frac  {\\\\delta p}{r}}\\\\int _{{\\\\mathbb{r} ^{3}}}a({\\\\mathbf  {k}})\\\\sin \\\\left(\\\\omega t-\\\\|{\\\\mathbf  {k}}\\\\|r\\\\right)\\\\ d^{3}{\\\\mathbf  {k}}\\ndonde:\\na({\\\\mathbf  {k}}) la amplitud normalizada para el componente {\\\\mathbf  {k}}.\\n{\\\\mathbf  {k}}, es el vector de onda.\\n\\\\omega =c\\\\|{\\\\mathbf  {k}}\\\\|, es la frecuencia angular.\\npercepción humana de las ondas sonoras[editar · editar código]\\n\\nel hercio (hz) es la unidad que expresa la cantidad de vibraciones que emite una fuente sonora por unidad de tiempo (frecuencia). se considera que el oído humano puede percibir ondas sonoras de frecuencias entre los 20 y los 20.000 hz, si bien también se consideran rangos entre 16 hz (aproximadamente la nota más grave de un órgano de iglesia: do0 = 16,25 hz) y 16.000 hz (o 16 khz). las ondas que poseen una frecuencia inferior a la audible se denominan infrasónicas y las superiores ultrasónicas.\\nla sensación de sonoridad es la percepción sonora que el hombre tiene de la intensidad de un sonido. la sonoridad se mide mediante una magnitud llamada fonio, que utiliza una escala arbitraria cuyo cero (el llamado umbral de audición) corresponde a i0=1 × 10-12 w/m² a 1 khz.\\nvéase también[editar · editar código]\\n\\nonda\\nbatimiento\\npropagación del sonido\\nsonido'"
      ]
     },
     "execution_count": 5,
     "metadata": {},
     "output_type": "execute_result"
    }
   ],
   "source": [
    "corpus[0]"
   ]
  },
  {
   "cell_type": "markdown",
   "metadata": {},
   "source": [
    "### 1) Limpieza de los corpus\n",
    "Para limpiar cada uno de los corpus se usará el módulo NLTK el cual nos permite obtener los tokens de una sequencia de caractetes. \n",
    "\n",
    "Posteriormente, los tokens serán validados para conservar únicamente aquellos que sean elementos léxicos.\n"
   ]
  },
  {
   "cell_type": "code",
   "execution_count": 8,
   "metadata": {},
   "outputs": [],
   "source": [
    "'''\n",
    "    Obtener los tokens y conservar unicamente a los que son validos:\n",
    "        * Elementos en el alfabeto [a-z]\n",
    "        * No son letras que no tienen significado en una oracion\n",
    "'''\n",
    "forbidden = re.compile('(b|c|d|f|g|h|j|k|l|m|n|p|q|r|s|t|u|v|w|z)')    # Letras no validas\n",
    "corpus_tokens = []                                                     # Tokens de todos los archivos\n",
    "file_tokens = []                                                       # Tokens de cada archivo                                                           \n",
    "\n",
    "for text in corpus:\n",
    "    tokens = nltk.word_tokenize(text)\n",
    "    for token in tokens:\n",
    "        if token.isalpha() and not forbidden.fullmatch(token):\n",
    "            file_tokens.append(token)\n",
    "    corpus_tokens.append(file_tokens.copy())\n",
    "    file_tokens.clear()"
   ]
  },
  {
   "cell_type": "code",
   "execution_count": 9,
   "metadata": {},
   "outputs": [
    {
     "data": {
      "text/plain": [
       "'onda sonora ondes compression una onda sonora es una onda longitudinal que transmite lo que se asocia con sonido si se propaga en un medio elástico y continuo genera una variación local de presión o densidad que se transmite en forma de onda esférica periódica o cuasiperiódica mecánicamente las ondas sonoras son un tipo de onda elástica las variaciones de presión humedad o temperatura del medio producen el desplazamiento de las moléculas que lo forman cada molécula transmite la vibración a las que se encuentren en su vecindad provocando un movimiento en cadena esa propagación del movimiento de las moléculas del medio producen en el oído humano una sensación descrita como sonido índice ocultar propagación de ondas modo de propagación propagación en medios percepción humana de las ondas sonoras véase también propagación de ondas editar editar código modo de propagación editar editar código el sonido está formado por ondas mecánicas elásticas longitudinales ondas de compresión en un medio eso significa que para propagarse precisan de un medio material aire agua cuerpo sólido que transmita la perturbación viaja más rápido en los sólidos luego en los líquidos aún más lento en el aire y en el vacío no se propaga es el propio medio el que produce y propicia la propagación de estas ondas con su compresión y expansión para que pueda comprimirse y expandirse es imprescindible que éste sea un medio elástico ya que un cuerpo totalmente rígido no permite que las vibraciones se transmitan así pues sin medio elástico no habría sonido ya que las ondas sonoras no se propagan en el vacío además los fluidos sólo pueden transmitir movimientos ondulatorios en que la vibración de las partículas se da en dirección paralela a la velocidad de propagación a lo largo de la dirección de propagación así los gradientes de presión que acompañan a la propagación de una onda sonora se producen en la misma dirección de propagación de la onda siendo por tanto éstas un tipo de ondas longitudinales en los sólidos también pueden propagarse ondas elásticas transversales propagación en medios editar editar código las ondas sonoras se desplazan también en tres dimensiones y sus frentes de onda en medios isótropos son esferas concéntricas que salen desde el foco de la perturbación en todas las direcciones por esto son ondas esféricas los cambios de presión que tienen lugar al paso de una onda sonora tridimensional de frecuencia ν y longitud de onda λ en un medio isótropo y en reposo vienen dados por la ecuación diferencial ondas sonoras generadas por un avión que posee una velocidad menor e igual a la del sonido donde es la distancia al centro emisor de la onda y es la velocidad de propagación de la onda para una onda de período bien definido y en ese caso la solución de la ecuación a grandes distancias de la fuente emisora se puede escribir como donde son respectivamente la presión de inicial del fluido y la sobrepresión máxima que ocasiona el paso de la onda en el caso de las ondas sonoras ordinarias casi siempre son la superposición de ondas de diferentes frecuencias y longitudes de onda y forman pulsos de duración finita para estas ondas sonoras la velocidad de fase no coincide con la velocidad de grupo o velocidad de propagación del pulso la velocidad de fase es diferente para cada frecuencia y depende al igual que antes de la relación el hecho de que la velocidad de fase sea diferente para cada frecuencia es responsable de la distorsión del sonido a grandes distancias en ese caso la solución general de viene dada por a donde a la amplitud normalizada para el componente es el vector de onda es la frecuencia angular percepción humana de las ondas sonoras editar editar código el hercio hz es la unidad que expresa la cantidad de vibraciones que emite una fuente sonora por unidad de tiempo frecuencia se considera que el oído humano puede percibir ondas sonoras de frecuencias entre los y los hz si bien también se consideran rangos entre hz aproximadamente la nota más grave de un órgano de iglesia hz y hz o khz las ondas que poseen una frecuencia inferior a la audible se denominan infrasónicas y las superiores ultrasónicas la sensación de sonoridad es la percepción sonora que el hombre tiene de la intensidad de un sonido la sonoridad se mide mediante una magnitud llamada fonio que utiliza una escala arbitraria cuyo cero el llamado umbral de audición corresponde a a khz véase también editar editar código onda batimiento propagación del sonido sonido'"
      ]
     },
     "execution_count": 9,
     "metadata": {},
     "output_type": "execute_result"
    }
   ],
   "source": [
    "' '.join(corpus_tokens[0])"
   ]
  },
  {
   "cell_type": "markdown",
   "metadata": {},
   "source": [
    "### 2) Aplicar algoritmo de Stemming"
   ]
  },
  {
   "cell_type": "code",
   "execution_count": 10,
   "metadata": {},
   "outputs": [],
   "source": [
    "from nltk.stem.snowball import SnowballStemmer"
   ]
  },
  {
   "cell_type": "code",
   "execution_count": 13,
   "metadata": {},
   "outputs": [],
   "source": [
    "# Creacion del objeto para realizar stemming de Porter\n",
    "stemmer = SnowballStemmer(\"spanish\")"
   ]
  },
  {
   "cell_type": "code",
   "execution_count": 14,
   "metadata": {},
   "outputs": [],
   "source": [
    "'''\n",
    "    Aplicar algoritmo de Stemming para el idioma español\n",
    "    a cada uno de los tokens de los 100 archivos de texto\n",
    "'''\n",
    "corpus_stems = []\n",
    "file_stems = []\n",
    "\n",
    "for tokens in corpus_tokens:\n",
    "    for token in tokens:\n",
    "        file_stems.append(stemmer.stem(token))\n",
    "    corpus_stems.append(file_stems.copy())\n",
    "    file_stems.clear()"
   ]
  },
  {
   "cell_type": "code",
   "execution_count": 16,
   "metadata": {},
   "outputs": [
    {
     "data": {
      "text/plain": [
       "'onda sonor ondes compression una onda sonor es una onda longitudinal que transmit lo que se asoci con son si se propag en un medi elast y continu gener una variacion local de presion o densid que se transmit en form de onda esfer period o cuasiperiod mecan las ondas sonor son un tip de onda elast las variacion de presion humed o temperatur del medi produc el desplaz de las molecul que lo form cad molecul transmit la vibracion a las que se encuentr en su vecind provoc un movimient en caden esa propag del movimient de las molecul del medi produc en el oid human una sensacion descrit com son indic ocult propag de ondas mod de propag propag en medi percepcion human de las ondas sonor veas tambien propag de ondas edit edit codig mod de propag edit edit codig el son esta form por ondas mecan elast longitudinal ondas de compresion en un medi eso signif que par propag precis de un medi material air agu cuerp sol que transmit la perturb viaj mas rap en los sol lueg en los liqu aun mas lent en el air y en el vaci no se propag es el propi medi el que produc y propici la propag de estas ondas con su compresion y expansion par que pued comprim y expand es imprescind que este sea un medi elast ya que un cuerp total rig no permit que las vibracion se transmit asi pues sin medi elast no habr son ya que las ondas sonor no se propag en el vaci ademas los flu sol pued transmit movimient ondulatori en que la vibracion de las particul se da en direccion paralel a la veloc de propag a lo larg de la direccion de propag asi los gradient de presion que acompañ a la propag de una onda sonor se produc en la mism direccion de propag de la onda siend por tant estas un tip de ondas longitudinal en los sol tambien pued propag ondas elast transversal propag en medi edit edit codig las ondas sonor se desplaz tambien en tres dimension y sus frent de onda en medi isotrop son esfer concentr que sal desd el foc de la perturb en tod las direccion por esto son ondas esfer los cambi de presion que tien lug al pas de una onda sonor tridimensional de frecuenci ν y longitud de onda λ en un medi isotrop y en repos vien dad por la ecuacion diferencial ondas sonor gener por un avion que pose una veloc menor e igual a la del son dond es la distanci al centr emisor de la onda y es la veloc de propag de la onda par una onda de period bien defin y en ese cas la solucion de la ecuacion a grand distanci de la fuent emisor se pued escrib com dond son respect la presion de inicial del flu y la sobrepresion maxim que ocasion el pas de la onda en el cas de las ondas sonor ordinari casi siempr son la superposicion de ondas de diferent frecuenci y longitud de onda y form puls de duracion finit par estas ondas sonor la veloc de fas no coincid con la veloc de grup o veloc de propag del puls la veloc de fas es diferent par cad frecuenci y depend al igual que antes de la relacion el hech de que la veloc de fas sea diferent par cad frecuenci es respons de la distorsion del son a grand distanci en ese cas la solucion general de vien dad por a dond a la amplitud normaliz par el component es el vector de onda es la frecuenci angul percepcion human de las ondas sonor edit edit codig el herci hz es la unid que expres la cantid de vibracion que emit una fuent sonor por unid de tiemp frecuenci se consider que el oid human pued percib ondas sonor de frecuenci entre los y los hz si bien tambien se consider rang entre hz aproxim la not mas grav de un organ de iglesi hz y hz o khz las ondas que pos una frecuenci inferior a la audibl se denomin infrason y las superior ultrason la sensacion de sonor es la percepcion sonor que el hombr tien de la intens de un son la sonor se mid mediant una magnitud llam foni que utiliz una escal arbitrari cuy cer el llam umbral de audicion correspond a a khz veas tambien edit edit codig onda batimient propag del son son'"
      ]
     },
     "execution_count": 16,
     "metadata": {},
     "output_type": "execute_result"
    }
   ],
   "source": [
    "' '.join(corpus_stems[0])"
   ]
  },
  {
   "cell_type": "markdown",
   "metadata": {},
   "source": [
    "### 3) Frecuencia de los tipos"
   ]
  },
  {
   "cell_type": "code",
   "execution_count": 49,
   "metadata": {},
   "outputs": [],
   "source": [
    "# Almacenar las frecuencias de cada tipo por texto en un diccionario\n",
    "corpus_freqs = {}\n",
    "freqs = {}\n",
    "n = len(file_names)\n",
    "\n",
    "for cstems, cname in zip(corpus_stems, file_names):\n",
    "    for stem in cstems:\n",
    "        if stem not in freqs:\n",
    "            freqs[stem] = 1\n",
    "        else:\n",
    "            freqs[stem] += 1\n",
    "    corpus_freqs[cname] = freqs.copy()\n",
    "    freqs.clear()"
   ]
  },
  {
   "cell_type": "code",
   "execution_count": 52,
   "metadata": {},
   "outputs": [
    {
     "data": {
      "text/plain": [
       "{'energ': 57,\n",
       " 'sonor': 23,\n",
       " 'la': 72,\n",
       " 'o': 11,\n",
       " 'acust': 41,\n",
       " 'es': 13,\n",
       " 'que': 19,\n",
       " 'transmit': 6,\n",
       " 'transport': 1,\n",
       " 'las': 14,\n",
       " 'ondas': 5,\n",
       " 'proced': 1,\n",
       " 'de': 95,\n",
       " 'vibracional': 1,\n",
       " 'del': 21,\n",
       " 'foc': 1,\n",
       " 'y': 24,\n",
       " 'se': 13,\n",
       " 'propag': 6,\n",
       " 'a': 31,\n",
       " 'particul': 5,\n",
       " 'medi': 14,\n",
       " 'atravies': 2,\n",
       " 'en': 21,\n",
       " 'form': 2,\n",
       " 'cinet': 2,\n",
       " 'movimient': 4,\n",
       " 'potencial': 2,\n",
       " 'cambi': 1,\n",
       " 'presion': 7,\n",
       " 'produc': 4,\n",
       " 'dich': 1,\n",
       " 'al': 7,\n",
       " 'irse': 1,\n",
       " 'el': 27,\n",
       " 'son': 11,\n",
       " 'traves': 3,\n",
       " 'veloc': 8,\n",
       " 'onda': 3,\n",
       " 'per': 1,\n",
       " 'una': 13,\n",
       " 'part': 5,\n",
       " 'disip': 8,\n",
       " 'suel': 1,\n",
       " 'ten': 1,\n",
       " 'valor': 1,\n",
       " 'absolut': 1,\n",
       " 'baj': 1,\n",
       " 'su': 2,\n",
       " 'unid': 7,\n",
       " 'med': 4,\n",
       " 'joul': 1,\n",
       " 'aunqu': 1,\n",
       " 'pued': 3,\n",
       " 'calcul': 4,\n",
       " 'otras': 2,\n",
       " 'magnitud': 2,\n",
       " 'com': 5,\n",
       " 'intens': 6,\n",
       " 'tambien': 4,\n",
       " 'relacion': 1,\n",
       " 'densid': 9,\n",
       " 'fluj': 13,\n",
       " 'definicion': 1,\n",
       " 'superfici': 4,\n",
       " 'da': 1,\n",
       " 'dond': 2,\n",
       " 'funcion': 2,\n",
       " 'punt': 2,\n",
       " 'escog': 1,\n",
       " 'tiemp': 3,\n",
       " 'interval': 1,\n",
       " 'durant': 1,\n",
       " 'pretend': 1,\n",
       " 'indic': 1,\n",
       " 'ocult': 1,\n",
       " 'conserv': 3,\n",
       " 'coeficient': 3,\n",
       " 'absorcion': 3,\n",
       " 'α': 2,\n",
       " 'transductor': 4,\n",
       " 'referent': 2,\n",
       " 'edit': 14,\n",
       " 'codig': 7,\n",
       " 'por': 9,\n",
       " 'volum': 5,\n",
       " 'cantid': 2,\n",
       " 'ε': 1,\n",
       " 'correspond': 1,\n",
       " 'un': 10,\n",
       " 'equival': 3,\n",
       " 'cocient': 3,\n",
       " 'entre': 7,\n",
       " 'juli': 1,\n",
       " 'metr': 1,\n",
       " 'cubic': 1,\n",
       " 'energi': 1,\n",
       " 'i': 1,\n",
       " 'par': 3,\n",
       " 'plan': 2,\n",
       " 'potenci': 3,\n",
       " 'cuadrat': 1,\n",
       " 'prms': 1,\n",
       " 'ρo': 1,\n",
       " 'segun': 1,\n",
       " 'rms': 1,\n",
       " 'total': 1,\n",
       " 'mas': 1,\n",
       " 'product': 1,\n",
       " 'cuadr': 1,\n",
       " 'direccion': 3,\n",
       " 'simboliz': 1,\n",
       " 'obtien': 1,\n",
       " 'integral': 1,\n",
       " 'diferencial': 1,\n",
       " 'mod': 1,\n",
       " 'sol': 1,\n",
       " 'porcion': 1,\n",
       " 'perpendicular': 1,\n",
       " 'import': 1,\n",
       " 'vati': 1,\n",
       " 'señal': 6,\n",
       " 'transmision': 4,\n",
       " 'air': 5,\n",
       " 'deb': 3,\n",
       " 'exces': 1,\n",
       " 'flu': 1,\n",
       " 'period': 1,\n",
       " 'are': 3,\n",
       " 'especific': 1,\n",
       " 'ρ': 2,\n",
       " 'esfer': 1,\n",
       " 'libr': 1,\n",
       " 'teng': 1,\n",
       " 'correspondient': 1,\n",
       " 'cos': 1,\n",
       " 'θ': 2,\n",
       " 'angul': 1,\n",
       " 'normal': 1,\n",
       " 'perpendicul': 1,\n",
       " 'pod': 1,\n",
       " 'distingu': 1,\n",
       " 'reflej': 2,\n",
       " 'incident': 2,\n",
       " 'microfon': 3,\n",
       " 'conviert': 4,\n",
       " 'electr': 11,\n",
       " 'lueg': 1,\n",
       " 'amplific': 1,\n",
       " 'mediant': 1,\n",
       " 'suministr': 1,\n",
       " 'adicional': 1,\n",
       " 'rest': 1,\n",
       " 'manifest': 1,\n",
       " 'cumpl': 1,\n",
       " 'principi': 1,\n",
       " 'si': 1,\n",
       " 'no': 1,\n",
       " 'hay': 1,\n",
       " 'otro': 1,\n",
       " 'tip': 2,\n",
       " 'transform': 4,\n",
       " 'ser': 1,\n",
       " 'igual': 1,\n",
       " 'sum': 2,\n",
       " 'trans': 2,\n",
       " 'disi': 2,\n",
       " 'refl': 2,\n",
       " 'incid': 2,\n",
       " 'mism': 1,\n",
       " 'transmisor': 1,\n",
       " 'cas': 1,\n",
       " 'esta': 1,\n",
       " 'atmosfer': 1,\n",
       " 'amortigu': 1,\n",
       " 'sufr': 1,\n",
       " 'rozamient': 1,\n",
       " 'intern': 1,\n",
       " 'conduct': 1,\n",
       " 'calorif': 1,\n",
       " 'esa': 1,\n",
       " 'trransform': 1,\n",
       " 'calor': 1,\n",
       " 'termic': 2,\n",
       " 'los': 3,\n",
       " 'inci': 3,\n",
       " 'defin': 1,\n",
       " 'absorb': 1,\n",
       " 'material': 1,\n",
       " 'sobr': 1,\n",
       " 'diferent': 2,\n",
       " 'disposit': 2,\n",
       " 'otra': 1,\n",
       " 'altavoc': 2,\n",
       " 'vicevers': 1,\n",
       " 'altavoz': 4,\n",
       " 'capt': 2,\n",
       " 'determin': 2,\n",
       " 'corrient': 1,\n",
       " 'reproduc': 1,\n",
       " 'caracterist': 1,\n",
       " 'original': 1,\n",
       " 'prim': 2,\n",
       " 'lug': 2,\n",
       " 'lamin': 1,\n",
       " 'elast': 1,\n",
       " 'fin': 1,\n",
       " 'llam': 1,\n",
       " 'diafragm': 2,\n",
       " 'variacion': 1,\n",
       " 'vibracion': 3,\n",
       " 'mecan': 2,\n",
       " 'continu': 1,\n",
       " 'gener': 1,\n",
       " 'voltaj': 1,\n",
       " 'e': 1,\n",
       " 'invers': 1,\n",
       " 'dec': 1,\n",
       " 'entrad': 1,\n",
       " 'fuerz': 1,\n",
       " 'electromagnet': 1,\n",
       " 'provoc': 1,\n",
       " 'membran': 2,\n",
       " 'ese': 1,\n",
       " 'muev': 1,\n",
       " 'contact': 1,\n",
       " 'con': 1,\n",
       " 'lo': 1,\n",
       " 'condicion': 1,\n",
       " 'ella': 1,\n",
       " 'depend': 1,\n",
       " 'pon': 1,\n",
       " 'unos': 1,\n",
       " 'otros': 1,\n",
       " 'frecuenci': 2,\n",
       " 'ton': 1,\n",
       " 'ir': 10,\n",
       " 'fisic': 1,\n",
       " 'conceptual': 1,\n",
       " 'paul': 1,\n",
       " 'hewitt': 1,\n",
       " 'pearson': 1,\n",
       " 'educ': 1,\n",
       " 'mexic': 1,\n",
       " 'isbn': 6,\n",
       " 'anal': 1,\n",
       " 'socied': 1,\n",
       " 'cientif': 1,\n",
       " 'argentin': 1,\n",
       " 'electroacust': 1,\n",
       " 'saposhkov': 1,\n",
       " 'editorial': 2,\n",
       " 'revert': 1,\n",
       " 'barcelon': 3,\n",
       " 'pag': 3,\n",
       " 'manual': 1,\n",
       " 'ruid': 1,\n",
       " 'pedr': 1,\n",
       " 'flor': 1,\n",
       " 'pereit': 1,\n",
       " 'inasel': 1,\n",
       " 'http': 1,\n",
       " 'wav': 1,\n",
       " 'in': 1,\n",
       " 'fluids': 1,\n",
       " 'jam': 1,\n",
       " 'lighthill': 1,\n",
       " 'cambridg': 1,\n",
       " 'university': 1,\n",
       " 'diccionari': 1,\n",
       " 'tecnolog': 1,\n",
       " 'ferroviari': 2,\n",
       " 'glosari': 1,\n",
       " 'termin': 1,\n",
       " 'mari': 1,\n",
       " 'leon': 1,\n",
       " 'babel': 1,\n",
       " 'madr': 1,\n",
       " 'arquitectur': 1,\n",
       " 'poetic': 1,\n",
       " 'diseñ': 1,\n",
       " 'francesc': 1,\n",
       " 'daumal': 1,\n",
       " 'domènech': 1,\n",
       " 'edicion': 1,\n",
       " 'upc': 1,\n",
       " 'aislamient': 1,\n",
       " 'construccion': 1,\n",
       " 'claud': 1,\n",
       " 'rougeron': 1,\n",
       " 'editor': 1,\n",
       " 'tecnic': 1,\n",
       " 'asoci': 1,\n",
       " 'curs': 2,\n",
       " 'grup': 2,\n",
       " 'univers': 2,\n",
       " 'pais': 2,\n",
       " 'vasc': 2}"
      ]
     },
     "execution_count": 52,
     "metadata": {},
     "output_type": "execute_result"
    }
   ],
   "source": [
    "corpus_freqs[file_names[1]]"
   ]
  },
  {
   "cell_type": "markdown",
   "metadata": {},
   "source": [
    "### 4) Ordenar por rango estadístico (mayor a menor)"
   ]
  },
  {
   "cell_type": "code",
   "execution_count": 83,
   "metadata": {},
   "outputs": [],
   "source": [
    "corpus_ordered = {}\n",
    "\n",
    "for fname in file_names:\n",
    "    d = sorted(corpus_freqs[file_names[0]].items(), key=lambda d: d[1], reverse=True)\n",
    "    corpus_ordered[fname] = d"
   ]
  },
  {
   "cell_type": "code",
   "execution_count": 108,
   "metadata": {},
   "outputs": [
    {
     "data": {
      "text/plain": [
       "62"
      ]
     },
     "execution_count": 108,
     "metadata": {},
     "output_type": "execute_result"
    }
   ],
   "source": [
    "corpus_ordered[file_names[0]][0][1]"
   ]
  },
  {
   "cell_type": "code",
   "execution_count": 109,
   "metadata": {},
   "outputs": [
    {
     "data": {
      "text/plain": [
       "[('de', 62),\n",
       " ('la', 40),\n",
       " ('que', 27),\n",
       " ('en', 25),\n",
       " ('propag', 20),\n",
       " ('ondas', 19),\n",
       " ('el', 18),\n",
       " ('onda', 17),\n",
       " ('sonor', 17),\n",
       " ('y', 17),\n",
       " ('se', 15),\n",
       " ('las', 15),\n",
       " ('son', 14),\n",
       " ('una', 12),\n",
       " ('un', 12),\n",
       " ('medi', 12),\n",
       " ('a', 12),\n",
       " ('es', 11),\n",
       " ('edit', 10),\n",
       " ('del', 8),\n",
       " ('los', 8),\n",
       " ('veloc', 8),\n",
       " ('frecuenci', 8),\n",
       " ('por', 7),\n",
       " ('par', 7),\n",
       " ('transmit', 6),\n",
       " ('elast', 6),\n",
       " ('presion', 5),\n",
       " ('o', 5),\n",
       " ('tambien', 5),\n",
       " ('codig', 5),\n",
       " ('no', 5),\n",
       " ('pued', 5),\n",
       " ('hz', 5),\n",
       " ('form', 4),\n",
       " ('produc', 4),\n",
       " ('vibracion', 4),\n",
       " ('human', 4),\n",
       " ('sol', 4),\n",
       " ('direccion', 4),\n",
       " ('longitudinal', 3),\n",
       " ('lo', 3),\n",
       " ('con', 3),\n",
       " ('esfer', 3),\n",
       " ('molecul', 3),\n",
       " ('cad', 3),\n",
       " ('movimient', 3),\n",
       " ('percepcion', 3),\n",
       " ('mas', 3),\n",
       " ('estas', 3),\n",
       " ('al', 3),\n",
       " ('dond', 3),\n",
       " ('distanci', 3),\n",
       " ('cas', 3),\n",
       " ('diferent', 3),\n",
       " ('fas', 3),\n",
       " ('si', 2),\n",
       " ('gener', 2),\n",
       " ('variacion', 2),\n",
       " ('period', 2),\n",
       " ('mecan', 2),\n",
       " ('tip', 2),\n",
       " ('desplaz', 2),\n",
       " ('su', 2),\n",
       " ('oid', 2),\n",
       " ('sensacion', 2),\n",
       " ('com', 2),\n",
       " ('mod', 2),\n",
       " ('veas', 2),\n",
       " ('compresion', 2),\n",
       " ('air', 2),\n",
       " ('cuerp', 2),\n",
       " ('perturb', 2),\n",
       " ('vaci', 2),\n",
       " ('sea', 2),\n",
       " ('ya', 2),\n",
       " ('asi', 2),\n",
       " ('flu', 2),\n",
       " ('isotrop', 2),\n",
       " ('tien', 2),\n",
       " ('pas', 2),\n",
       " ('longitud', 2),\n",
       " ('vien', 2),\n",
       " ('dad', 2),\n",
       " ('ecuacion', 2),\n",
       " ('igual', 2),\n",
       " ('emisor', 2),\n",
       " ('bien', 2),\n",
       " ('ese', 2),\n",
       " ('solucion', 2),\n",
       " ('grand', 2),\n",
       " ('fuent', 2),\n",
       " ('puls', 2),\n",
       " ('unid', 2),\n",
       " ('consider', 2),\n",
       " ('entre', 2),\n",
       " ('khz', 2),\n",
       " ('llam', 2),\n",
       " ('ondes', 1),\n",
       " ('compression', 1),\n",
       " ('asoci', 1),\n",
       " ('continu', 1),\n",
       " ('local', 1),\n",
       " ('densid', 1),\n",
       " ('cuasiperiod', 1),\n",
       " ('humed', 1),\n",
       " ('temperatur', 1),\n",
       " ('encuentr', 1),\n",
       " ('vecind', 1),\n",
       " ('provoc', 1),\n",
       " ('caden', 1),\n",
       " ('esa', 1),\n",
       " ('descrit', 1),\n",
       " ('indic', 1),\n",
       " ('ocult', 1),\n",
       " ('esta', 1),\n",
       " ('eso', 1),\n",
       " ('signif', 1),\n",
       " ('precis', 1),\n",
       " ('material', 1),\n",
       " ('agu', 1),\n",
       " ('viaj', 1),\n",
       " ('rap', 1),\n",
       " ('lueg', 1),\n",
       " ('liqu', 1),\n",
       " ('aun', 1),\n",
       " ('lent', 1),\n",
       " ('propi', 1),\n",
       " ('propici', 1),\n",
       " ('expansion', 1),\n",
       " ('comprim', 1),\n",
       " ('expand', 1),\n",
       " ('imprescind', 1),\n",
       " ('este', 1),\n",
       " ('total', 1),\n",
       " ('rig', 1),\n",
       " ('permit', 1),\n",
       " ('pues', 1),\n",
       " ('sin', 1),\n",
       " ('habr', 1),\n",
       " ('ademas', 1),\n",
       " ('ondulatori', 1),\n",
       " ('particul', 1),\n",
       " ('da', 1),\n",
       " ('paralel', 1),\n",
       " ('larg', 1),\n",
       " ('gradient', 1),\n",
       " ('acompañ', 1),\n",
       " ('mism', 1),\n",
       " ('siend', 1),\n",
       " ('tant', 1),\n",
       " ('transversal', 1),\n",
       " ('tres', 1),\n",
       " ('dimension', 1),\n",
       " ('sus', 1),\n",
       " ('frent', 1),\n",
       " ('concentr', 1),\n",
       " ('sal', 1),\n",
       " ('desd', 1),\n",
       " ('foc', 1),\n",
       " ('tod', 1),\n",
       " ('esto', 1),\n",
       " ('cambi', 1),\n",
       " ('lug', 1),\n",
       " ('tridimensional', 1),\n",
       " ('ν', 1),\n",
       " ('λ', 1),\n",
       " ('repos', 1),\n",
       " ('diferencial', 1),\n",
       " ('avion', 1),\n",
       " ('pose', 1),\n",
       " ('menor', 1),\n",
       " ('e', 1),\n",
       " ('centr', 1),\n",
       " ('defin', 1),\n",
       " ('escrib', 1),\n",
       " ('respect', 1),\n",
       " ('inicial', 1),\n",
       " ('sobrepresion', 1),\n",
       " ('maxim', 1),\n",
       " ('ocasion', 1),\n",
       " ('ordinari', 1),\n",
       " ('casi', 1),\n",
       " ('siempr', 1),\n",
       " ('superposicion', 1),\n",
       " ('duracion', 1),\n",
       " ('finit', 1),\n",
       " ('coincid', 1),\n",
       " ('grup', 1),\n",
       " ('depend', 1),\n",
       " ('antes', 1),\n",
       " ('relacion', 1),\n",
       " ('hech', 1),\n",
       " ('respons', 1),\n",
       " ('distorsion', 1),\n",
       " ('general', 1),\n",
       " ('amplitud', 1),\n",
       " ('normaliz', 1),\n",
       " ('component', 1),\n",
       " ('vector', 1),\n",
       " ('angul', 1),\n",
       " ('herci', 1),\n",
       " ('expres', 1),\n",
       " ('cantid', 1),\n",
       " ('emit', 1),\n",
       " ('tiemp', 1),\n",
       " ('percib', 1),\n",
       " ('rang', 1),\n",
       " ('aproxim', 1),\n",
       " ('not', 1),\n",
       " ('grav', 1),\n",
       " ('organ', 1),\n",
       " ('iglesi', 1),\n",
       " ('pos', 1),\n",
       " ('inferior', 1),\n",
       " ('audibl', 1),\n",
       " ('denomin', 1),\n",
       " ('infrason', 1),\n",
       " ('superior', 1),\n",
       " ('ultrason', 1),\n",
       " ('hombr', 1),\n",
       " ('intens', 1),\n",
       " ('mid', 1),\n",
       " ('mediant', 1),\n",
       " ('magnitud', 1),\n",
       " ('foni', 1),\n",
       " ('utiliz', 1),\n",
       " ('escal', 1),\n",
       " ('arbitrari', 1),\n",
       " ('cuy', 1),\n",
       " ('cer', 1),\n",
       " ('umbral', 1),\n",
       " ('audicion', 1),\n",
       " ('correspond', 1),\n",
       " ('batimient', 1)]"
      ]
     },
     "execution_count": 109,
     "metadata": {},
     "output_type": "execute_result"
    }
   ],
   "source": [
    "corpus_ordered[file_names[0]]"
   ]
  },
  {
   "cell_type": "markdown",
   "metadata": {},
   "source": [
    "### 5) Graficación del diagrama de dispersión rango-frecuencia (escala logarítmica)"
   ]
  },
  {
   "cell_type": "code",
   "execution_count": 113,
   "metadata": {},
   "outputs": [
    {
     "data": {
      "text/plain": [
       "array([62, 40, 27, 25, 20, 19, 18, 17, 17, 17, 15, 15, 14, 12, 12, 12, 12,\n",
       "       11, 10,  8,  8,  8,  8,  7,  7,  6,  6,  5,  5,  5,  5,  5,  5,  5,\n",
       "        4,  4,  4,  4,  4,  4,  3,  3,  3,  3,  3,  3,  3,  3,  3,  3,  3,\n",
       "        3,  3,  3,  3,  3,  2,  2,  2,  2,  2,  2,  2,  2,  2,  2,  2,  2,\n",
       "        2,  2,  2,  2,  2,  2,  2,  2,  2,  2,  2,  2,  2,  2,  2,  2,  2,\n",
       "        2,  2,  2,  2,  2,  2,  2,  2,  2,  2,  2,  2,  2,  1,  1,  1,  1,\n",
       "        1,  1,  1,  1,  1,  1,  1,  1,  1,  1,  1,  1,  1,  1,  1,  1,  1,\n",
       "        1,  1,  1,  1,  1,  1,  1,  1,  1,  1,  1,  1,  1,  1,  1,  1,  1,\n",
       "        1,  1,  1,  1,  1,  1,  1,  1,  1,  1,  1,  1,  1,  1,  1,  1,  1,\n",
       "        1,  1,  1,  1,  1,  1,  1,  1,  1,  1,  1,  1,  1,  1,  1,  1,  1,\n",
       "        1,  1,  1,  1,  1,  1,  1,  1,  1,  1,  1,  1,  1,  1,  1,  1,  1,\n",
       "        1,  1,  1,  1,  1,  1,  1,  1,  1,  1,  1,  1,  1,  1,  1,  1,  1,\n",
       "        1,  1,  1,  1,  1,  1,  1,  1,  1,  1,  1,  1,  1,  1,  1,  1,  1,\n",
       "        1,  1,  1,  1,  1,  1,  1,  1,  1,  1,  1,  1,  1,  1])"
      ]
     },
     "execution_count": 113,
     "metadata": {},
     "output_type": "execute_result"
    }
   ],
   "source": [
    "r = np.array([tupl[1] for tupl in corpus_ordered[file_names[0]]])\n",
    "r"
   ]
  },
  {
   "cell_type": "code",
   "execution_count": 118,
   "metadata": {},
   "outputs": [],
   "source": [
    "freqDist = []\n",
    "for fname in file_names:\n",
    "    dist = np.array([tupl[1] for tupl in corpus_ordered[fname]])\n",
    "    freqDist.append(dist)"
   ]
  },
  {
   "cell_type": "code",
   "execution_count": 125,
   "metadata": {},
   "outputs": [
    {
     "data": {
      "text/plain": [
       "(100, 235)"
      ]
     },
     "execution_count": 125,
     "metadata": {},
     "output_type": "execute_result"
    }
   ],
   "source": [
    "np.array(freqDist).shape"
   ]
  },
  {
   "cell_type": "code",
   "execution_count": 136,
   "metadata": {},
   "outputs": [],
   "source": [
    "v = np.log(np.arange(1, len(freqDist[0])+1))\n",
    "y = np.log(freqDist[0])"
   ]
  },
  {
   "cell_type": "code",
   "execution_count": 137,
   "metadata": {},
   "outputs": [
    {
     "data": {
      "image/png": "[encoded data removed]",
      "text/plain": [
       "<Figure size 720x432 with 1 Axes>"
      ]
     },
     "metadata": {
      "needs_background": "light"
     },
     "output_type": "display_data"
    }
   ],
   "source": [
    "plt.figure(figsize=(10, 6))\n",
    "plt.plot(v, y)\n",
    "plt.show()"
   ]
  }
 ],
 "metadata": {
  "kernelspec": {
   "display_name": "Python 3",
   "language": "python",
   "name": "python3"
  },
  "language_info": {
   "codemirror_mode": {
    "name": "ipython",
    "version": 3
   },
   "file_extension": ".py",
   "mimetype": "text/x-python",
   "name": "python",
   "nbconvert_exporter": "python",
   "pygments_lexer": "ipython3",
   "version": "3.7.1"
  }
 },
 "nbformat": 4,
 "nbformat_minor": 2
}
