{
 "cells": [
  {
   "cell_type": "markdown",
   "metadata": {},
   "source": [
    "# Procesamiento del Lenguaje Natural\n",
    "## Práctica 1\n",
    "\n",
    "Dado el corpus proporcionado, obtener la curva de Zipf de las palabras en escala logarítmica."
   ]
  },
  {
   "cell_type": "code",
   "execution_count": 94,
   "metadata": {},
   "outputs": [
    {
     "name": "stdout",
     "output_type": "stream",
     "text": [
      "showing info https://raw.githubusercontent.com/nltk/nltk_data/gh-pages/index.xml\n"
     ]
    },
    {
     "data": {
      "text/plain": [
       "True"
      ]
     },
     "execution_count": 94,
     "metadata": {},
     "output_type": "execute_result"
    }
   ],
   "source": [
    "import os\n",
    "import re\n",
    "import nltk\n",
    "nltk.download()"
   ]
  },
  {
   "cell_type": "code",
   "execution_count": 2,
   "metadata": {},
   "outputs": [
    {
     "data": {
      "text/plain": [
       "['acustica (1).txt',\n",
       " 'acustica (2).txt',\n",
       " 'acustica (3).txt',\n",
       " 'acustica (4).txt']"
      ]
     },
     "execution_count": 2,
     "metadata": {},
     "output_type": "execute_result"
    }
   ],
   "source": [
    "file_path = 'CorpusDocs/'\n",
    "file_names = sorted(os.listdir(file_path))\n",
    "file_names[:4]"
   ]
  },
  {
   "cell_type": "code",
   "execution_count": 3,
   "metadata": {},
   "outputs": [],
   "source": [
    "# Lista para almacenar los corpus originales\n",
    "corpus = []"
   ]
  },
  {
   "cell_type": "code",
   "execution_count": 4,
   "metadata": {},
   "outputs": [],
   "source": [
    "# Leer los archivos y guardar el texto en la lista de corpus\n",
    "for name in file_names:\n",
    "    with open(file_path + name, 'rt') as file:\n",
    "        text = file.read().lower()\n",
    "        corpus.append(text)"
   ]
  },
  {
   "cell_type": "code",
   "execution_count": 5,
   "metadata": {
    "scrolled": true
   },
   "outputs": [
    {
     "data": {
      "text/plain": [
       "'onda sonora\\nondes compression 2d 20 petit.gif\\nuna onda sonora es una onda longitudinal que transmite lo que se asocia con sonido. si se propaga en un medio elástico y continuo genera una variación local de presión o densidad, que se transmite en forma de onda esférica periódica o cuasiperiódica. mecánicamente las ondas sonoras son un tipo de onda elástica.\\nlas variaciones de presión, humedad o temperatura del medio, producen el desplazamiento de las moléculas que lo forman. cada molécula transmite la vibración a las que se encuentren en su vecindad, provocando un movimiento en cadena. esa propagación del movimiento de las moléculas del medio, producen en el oído humano una sensación descrita como sonido.\\n\\níndice  [ocultar] \\n1 propagación de ondas\\n1.1 modo de propagación\\n1.2 propagación en medios\\n2 percepción humana de las ondas sonoras\\n3 véase también\\npropagación de ondas[editar · editar código]\\n\\nmodo de propagación[editar · editar código]\\nel sonido está formado por ondas mecánicas elásticas longitudinales u ondas de compresión en un medio. eso significa que:\\npara propagarse precisan de un medio material (aire, agua, cuerpo sólido) que transmita la perturbación (viaja más rápido en los sólidos, luego en los líquidos aún más lento en el aire, y en el vacío no se propaga). es el propio medio el que produce y propicia la propagación de estas ondas con su compresión y expansión. para que pueda comprimirse y expandirse es imprescindible que éste sea un medio elástico, ya que un cuerpo totalmente rígido no permite que las vibraciones se transmitan. así pues, sin medio elástico no habría sonido, ya que las ondas sonoras no se propagan en el vacío.\\nademás, los fluidos sólo pueden transmitir movimientos ondulatorios en que la vibración de las partículas se da en dirección paralela a la velocidad de propagación a lo largo de la dirección de propagación. así los gradientes de presión que acompañan a la propagación de una onda sonora se producen en la misma dirección de propagación de la onda, siendo por tanto éstas un tipo de ondas longitudinales (en los sólidos también pueden propagarse ondas elásticas transversales).\\npropagación en medios[editar · editar código]\\nlas ondas sonoras se desplazan también en tres dimensiones y sus frentes de onda en medios isótropos son esferas concéntricas que salen desde el foco de la perturbación en todas las direcciones. por esto son ondas esféricas. los cambios de presión p2 que tienen lugar al paso de una onda sonora tridimensional de frecuencia ν y longitud de onda λ en un medio isótropo y en reposo vienen dados por la ecuación diferencial:\\n\\n\\nondas sonoras generadas por un avión que posee una velocidad menor e igual a la del sonido.\\n(*){\\\\frac  {1}{r^{2}}}{\\\\frac  {\\\\partial }{\\\\partial r}}\\\\left(r^{2}{\\\\frac  {\\\\partial p(r,t)}{\\\\partial r}}\\\\right)-{\\\\frac  {1}{c^{2}}}{\\\\frac  {\\\\partial ^{2}p(r,t)}{\\\\partial t^{2}}}=0\\ndonde r es la distancia al centro emisor de la onda, y c es la velocidad de propagación de la onda. para una onda de período bien definido c=\\\\lambda \\\\nu  y en ese caso la solución de la ecuación, a grandes distancias de la fuente emisora se puede escribir como:\\np(r,t)=p_{0}+{\\\\frac  {\\\\delta p}{r}}\\\\sin \\\\left(2\\\\pi \\\\nu t-2\\\\pi {\\\\frac  {r}{\\\\lambda }}+\\\\phi _{0}\\\\right)\\ndonde p_{0},\\\\delta p\\\\, son respectivamente la presión de inicial del fluido y la sobrepresión máxima que ocasiona el paso de la onda.\\nen el caso de las ondas sonoras ordinarias, casi siempre son la superposición de ondas de diferentes frecuencias y longitudes de onda, y forman pulsos de duración finita. para estas ondas sonoras la velocidad de fase no coincide con la velocidad de grupo o velocidad de propagación del pulso. la velocidad de fase es diferente para cada frecuencia y depende al igual que antes de la relación c=ν•λ. el hecho de que la velocidad de fase sea diferente para cada frecuencia, es responsable de la distorsión del sonido a grandes distancias. en ese caso la solución general de (*) viene dada por:\\np(r,t)=p_{0}+{\\\\frac  {\\\\delta p}{r}}\\\\int _{{\\\\mathbb{r} ^{3}}}a({\\\\mathbf  {k}})\\\\sin \\\\left(\\\\omega t-\\\\|{\\\\mathbf  {k}}\\\\|r\\\\right)\\\\ d^{3}{\\\\mathbf  {k}}\\ndonde:\\na({\\\\mathbf  {k}}) la amplitud normalizada para el componente {\\\\mathbf  {k}}.\\n{\\\\mathbf  {k}}, es el vector de onda.\\n\\\\omega =c\\\\|{\\\\mathbf  {k}}\\\\|, es la frecuencia angular.\\npercepción humana de las ondas sonoras[editar · editar código]\\n\\nel hercio (hz) es la unidad que expresa la cantidad de vibraciones que emite una fuente sonora por unidad de tiempo (frecuencia). se considera que el oído humano puede percibir ondas sonoras de frecuencias entre los 20 y los 20.000 hz, si bien también se consideran rangos entre 16 hz (aproximadamente la nota más grave de un órgano de iglesia: do0 = 16,25 hz) y 16.000 hz (o 16 khz). las ondas que poseen una frecuencia inferior a la audible se denominan infrasónicas y las superiores ultrasónicas.\\nla sensación de sonoridad es la percepción sonora que el hombre tiene de la intensidad de un sonido. la sonoridad se mide mediante una magnitud llamada fonio, que utiliza una escala arbitraria cuyo cero (el llamado umbral de audición) corresponde a i0=1 × 10-12 w/m² a 1 khz.\\nvéase también[editar · editar código]\\n\\nonda\\nbatimiento\\npropagación del sonido\\nsonido'"
      ]
     },
     "execution_count": 5,
     "metadata": {},
     "output_type": "execute_result"
    }
   ],
   "source": [
    "corpus[0]"
   ]
  },
  {
   "cell_type": "markdown",
   "metadata": {},
   "source": [
    "### 1) Limpieza de los corpus\n",
    "Para limpiar cada uno de los corpus se usará el módulo NLTK el cual nos permite obtener los tokens de una sequencia de caractetes. \n",
    "\n",
    "Posteriormente, los tokens serán validados para conservar únicamente aquellos que sean elementos léxicos.\n"
   ]
  },
  {
   "cell_type": "code",
   "execution_count": 31,
   "metadata": {},
   "outputs": [],
   "source": [
    "# Obtener tokens por palabra\n",
    "with open('tokens.txt', 'w') as file:\n",
    "    tokens = nltk.word_tokenize(corpus[0])\n",
    "    #tokens = nltk.blankline_tokenize(corpus[0])\n",
    "    #tokens = nltk.tokenize.wordpunct_tokenize(corpus[0])\n",
    "    #tokens = nltk.tokenize.casual_tokenize(corpus[0])\n",
    "    #tokens = nltk.tokenize.regexp_tokenize(corpus[0], pattern='^[a-zA-z]+$')\n",
    "    for token in tokens:\n",
    "        file.write(token)\n",
    "        file.write('\\n')"
   ]
  },
  {
   "cell_type": "code",
   "execution_count": 42,
   "metadata": {},
   "outputs": [],
   "source": [
    "# Elegir los tokens que son elementos lexicos\n",
    "import re\n",
    "clean_tokens = []\n",
    "forbidden = re.compile('(b|c|d|f|g|h|j|k|l|m|n|o|p|q|r|s|t|u|v|w|z)')\n",
    "\n",
    "with open('clean-tokens.txt', 'w') as file:\n",
    "    for token in tokens:\n",
    "        if token.isalpha() and not forbidden.fullmatch(token):\n",
    "            clean_tokens.append(token)\n",
    "            file.write(token)\n",
    "            file.write('\\n')"
   ]
  },
  {
   "cell_type": "code",
   "execution_count": 83,
   "metadata": {},
   "outputs": [],
   "source": [
    "'''\n",
    "    Obtener los tokens y conservar unicamente a los que son validos:\n",
    "        * Elementos en el alfabeto [a-z]\n",
    "        * No son letras que no tienen significado en una oracion\n",
    "'''\n",
    "forbidden = re.compile('(b|c|d|f|g|h|j|k|l|m|n|o|p|q|r|s|t|u|v|w|z)')  # Letras no validas\n",
    "corpus_tokens = []                                                     # Tokens de todos los archivos\n",
    "file_tokens = []                                                       # Tokens de cada archivo   \n",
    "\n",
    "for text in corpus:\n",
    "    tokens = nltk.word_tokenize(text)\n",
    "    for token in tokens:\n",
    "        if token.isalpha() and not forbidden.fullmatch(token):\n",
    "            file_tokens.append(token)\n",
    "    corpus_tokens.append(file_tokens.copy())\n",
    "    file_tokens.clear()"
   ]
  },
  {
   "cell_type": "code",
   "execution_count": 95,
   "metadata": {},
   "outputs": [
    {
     "ename": "SyntaxError",
     "evalue": "invalid syntax (<ipython-input-95-b0241317541c>, line 2)",
     "output_type": "error",
     "traceback": [
      "\u001b[0;36m  File \u001b[0;32m\"<ipython-input-95-b0241317541c>\"\u001b[0;36m, line \u001b[0;32m2\u001b[0m\n\u001b[0;31m    nltk.tokenize.\u001b[0m\n\u001b[0m                  ^\u001b[0m\n\u001b[0;31mSyntaxError\u001b[0m\u001b[0;31m:\u001b[0m invalid syntax\n"
     ]
    }
   ],
   "source": [
    "# Corpus 0 limpio\n",
    "nltk.tokenize."
   ]
  },
  {
   "cell_type": "code",
   "execution_count": 103,
   "metadata": {},
   "outputs": [
    {
     "data": {
      "text/plain": [
       "'onda sonora ondes compression una onda sonora es una onda longitudinal que transmite lo que se asocia con sonido si se propaga en un medio elástico y continuo genera una variación local de presión densidad que se transmite en forma de onda esférica periódica cuasiperiódica mecánicamente las ondas sonoras son un tipo de onda elástica las variaciones de presión humedad temperatura del medio producen el desplazamiento de las moléculas que lo forman cada molécula transmite la vibración a las que se encuentren en su vecindad provocando un movimiento en cadena esa propagación del movimiento de las moléculas del medio producen en el oído humano una sensación descrita como sonido índice ocultar propagación de ondas modo de propagación propagación en medios percepción humana de las ondas sonoras véase también propagación de ondas editar editar código modo de propagación editar editar código el sonido está formado por ondas mecánicas elásticas longitudinales ondas de compresión en un medio eso significa que para propagarse precisan de un medio material aire agua cuerpo sólido que transmita la perturbación viaja más rápido en los sólidos luego en los líquidos aún más lento en el aire y en el vacío no se propaga es el propio medio el que produce y propicia la propagación de estas ondas con su compresión y expansión para que pueda comprimirse y expandirse es imprescindible que éste sea un medio elástico ya que un cuerpo totalmente rígido no permite que las vibraciones se transmitan así pues sin medio elástico no habría sonido ya que las ondas sonoras no se propagan en el vacío además los fluidos sólo pueden transmitir movimientos ondulatorios en que la vibración de las partículas se da en dirección paralela a la velocidad de propagación a lo largo de la dirección de propagación así los gradientes de presión que acompañan a la propagación de una onda sonora se producen en la misma dirección de propagación de la onda siendo por tanto éstas un tipo de ondas longitudinales en los sólidos también pueden propagarse ondas elásticas transversales propagación en medios editar editar código las ondas sonoras se desplazan también en tres dimensiones y sus frentes de onda en medios isótropos son esferas concéntricas que salen desde el foco de la perturbación en todas las direcciones por esto son ondas esféricas los cambios de presión que tienen lugar al paso de una onda sonora tridimensional de frecuencia ν y longitud de onda λ en un medio isótropo y en reposo vienen dados por la ecuación diferencial ondas sonoras generadas por un avión que posee una velocidad menor e igual a la del sonido donde es la distancia al centro emisor de la onda y es la velocidad de propagación de la onda para una onda de período bien definido y en ese caso la solución de la ecuación a grandes distancias de la fuente emisora se puede escribir como donde son respectivamente la presión de inicial del fluido y la sobrepresión máxima que ocasiona el paso de la onda en el caso de las ondas sonoras ordinarias casi siempre son la superposición de ondas de diferentes frecuencias y longitudes de onda y forman pulsos de duración finita para estas ondas sonoras la velocidad de fase no coincide con la velocidad de grupo velocidad de propagación del pulso la velocidad de fase es diferente para cada frecuencia y depende al igual que antes de la relación el hecho de que la velocidad de fase sea diferente para cada frecuencia es responsable de la distorsión del sonido a grandes distancias en ese caso la solución general de viene dada por a donde a la amplitud normalizada para el componente es el vector de onda es la frecuencia angular percepción humana de las ondas sonoras editar editar código el hercio hz es la unidad que expresa la cantidad de vibraciones que emite una fuente sonora por unidad de tiempo frecuencia se considera que el oído humano puede percibir ondas sonoras de frecuencias entre los y los hz si bien también se consideran rangos entre hz aproximadamente la nota más grave de un órgano de iglesia hz y hz khz las ondas que poseen una frecuencia inferior a la audible se denominan infrasónicas y las superiores ultrasónicas la sensación de sonoridad es la percepción sonora que el hombre tiene de la intensidad de un sonido la sonoridad se mide mediante una magnitud llamada fonio que utiliza una escala arbitraria cuyo cero el llamado umbral de audición corresponde a a khz véase también editar editar código onda batimiento propagación del sonido sonido'"
      ]
     },
     "execution_count": 103,
     "metadata": {},
     "output_type": "execute_result"
    }
   ],
   "source": [
    "' '.join(corpus_tokens[0])"
   ]
  }
 ],
 "metadata": {
  "kernelspec": {
   "display_name": "Python 3",
   "language": "python",
   "name": "python3"
  },
  "language_info": {
   "codemirror_mode": {
    "name": "ipython",
    "version": 3
   },
   "file_extension": ".py",
   "mimetype": "text/x-python",
   "name": "python",
   "nbconvert_exporter": "python",
   "pygments_lexer": "ipython3",
   "version": "3.7.1"
  }
 },
 "nbformat": 4,
 "nbformat_minor": 2
}
