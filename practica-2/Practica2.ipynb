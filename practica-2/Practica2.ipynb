{
 "cells": [
  {
   "cell_type": "markdown",
   "metadata": {},
   "source": [
    "# Practica 2"
   ]
  },
  {
   "cell_type": "code",
   "execution_count": 164,
   "metadata": {},
   "outputs": [],
   "source": [
    "import nltk\n",
    "import pickle\n",
    "import numpy as np\n",
    "from tqdm import tqdm\n",
    "from unidecode import unidecode\n",
    "from matplotlib import pyplot as plt\n",
    "from nltk.stem.snowball import SnowballStemmer\n",
    "%matplotlib inline"
   ]
  },
  {
   "cell_type": "code",
   "execution_count": 2,
   "metadata": {},
   "outputs": [],
   "source": [
    "with open('corpusML.txt', 'r') as f:\n",
    "    corpus = f.readlines()"
   ]
  },
  {
   "cell_type": "code",
   "execution_count": 3,
   "metadata": {},
   "outputs": [],
   "source": [
    "corpus = [unidecode(line.lower()) for line in corpus]"
   ]
  },
  {
   "cell_type": "code",
   "execution_count": 4,
   "metadata": {},
   "outputs": [
    {
     "data": {
      "text/plain": [
       "['comence a trabajar y me pegaron, me maltrataron con chicote \\n',\n",
       " 'mis patrones me pegaron porque no me queria apurar, porque era flojo \\n']"
      ]
     },
     "execution_count": 4,
     "metadata": {},
     "output_type": "execute_result"
    }
   ],
   "source": [
    "corpus[0:2]"
   ]
  },
  {
   "cell_type": "markdown",
   "metadata": {},
   "source": [
    "### 1, 2) Limpiar corpus y agregar simbolos de inicio y fin\n",
    "\n",
    "* Se limpia el corpus mediante el algoritmo de Porter para el lenguaje español. \n",
    "* A cada oracion del corpus, se le agrega el simbolo de inicio y fin. \n",
    "* Se crea el alfabeto $\\Sigma$ del corpus donde se almacenen unicamente los tipos "
   ]
  },
  {
   "cell_type": "code",
   "execution_count": 5,
   "metadata": {},
   "outputs": [],
   "source": [
    "stemmer = SnowballStemmer(\"spanish\")\n",
    "stems = []                                              # Lista de stems por cada oracion\n",
    "cleanedCorpus = []                                      # Corpus procesado con stemming\n",
    "Sigma = []                                              # Alfabeto del corpus (tipos)               \n",
    "\n",
    "for sentence in corpus:\n",
    "    tokens = nltk.word_tokenize(sentence)               # Obtener lista tokens\n",
    "    for tk in tokens:   \n",
    "        if tk.isalpha():                                # Validar token como caracter del alfabeto                                \n",
    "            stem = stemmer.stem(tk)                     # Aplicar algotimo de stemming\n",
    "            stems.append(stem)                          # Agregarlo a la lista de stems \n",
    "            if stem not in Sigma:                       # Agregar stem al alfabeto\n",
    "                Sigma.append(stem)\n",
    "    s = '<BOS> ' + ' '.join(stems) + ' <EOS>'           # Agregar simbolos de inicio y fin\n",
    "    cleanedCorpus.append(s)                             # Agregar oracion procesada a la lista del corpus limpio                               \n",
    "    stems.clear()\n",
    "\n",
    "# Agregar simbolos de inicio y fin al alfabeto\n",
    "Sigma.append('<BOS>')\n",
    "Sigma.append('<EOS>')"
   ]
  },
  {
   "cell_type": "code",
   "execution_count": 6,
   "metadata": {},
   "outputs": [
    {
     "data": {
      "text/plain": [
       "['<BOS> comenc a trabaj y me peg me maltrat con chicot <EOS>',\n",
       " '<BOS> mis patron me peg porqu no me queri apur porqu era floj <EOS>',\n",
       " '<BOS> por eso me habi peg <EOS>']"
      ]
     },
     "execution_count": 6,
     "metadata": {},
     "output_type": "execute_result"
    }
   ],
   "source": [
    "cleanedCorpus[:3]"
   ]
  },
  {
   "cell_type": "code",
   "execution_count": 7,
   "metadata": {},
   "outputs": [
    {
     "data": {
      "text/plain": [
       "['cab',\n",
       " 'bebecit',\n",
       " 'tabiqu',\n",
       " 'calent',\n",
       " 'pajuel',\n",
       " 'vapor',\n",
       " 'quemart',\n",
       " 'cai',\n",
       " '<BOS>',\n",
       " '<EOS>']"
      ]
     },
     "execution_count": 7,
     "metadata": {},
     "output_type": "execute_result"
    }
   ],
   "source": [
    "Sigma[-10:]"
   ]
  },
  {
   "cell_type": "markdown",
   "metadata": {},
   "source": [
    "### 3) Obtener los bigramas"
   ]
  },
  {
   "cell_type": "code",
   "execution_count": 8,
   "metadata": {},
   "outputs": [],
   "source": [
    "# Funcion para obtener los bigramas de una secuencia de caracteres\n",
    "def bigrams(sequence):\n",
    "    s = sequence.split()\n",
    "    return [(wi, wj) for wi, wj in zip(s[:-1], s[1:])]"
   ]
  },
  {
   "cell_type": "code",
   "execution_count": 9,
   "metadata": {},
   "outputs": [],
   "source": [
    "# Obtener los bigramas del corpus limpio\n",
    "sentence_bigrams = [bigrams(s) for s in cleanedCorpus]"
   ]
  },
  {
   "cell_type": "code",
   "execution_count": 10,
   "metadata": {},
   "outputs": [
    {
     "data": {
      "text/plain": [
       "[('<BOS>', 'comenc'),\n",
       " ('comenc', 'a'),\n",
       " ('a', 'trabaj'),\n",
       " ('trabaj', 'y'),\n",
       " ('y', 'me'),\n",
       " ('me', 'peg'),\n",
       " ('peg', 'me'),\n",
       " ('me', 'maltrat'),\n",
       " ('maltrat', 'con'),\n",
       " ('con', 'chicot'),\n",
       " ('chicot', '<EOS>')]"
      ]
     },
     "execution_count": 10,
     "metadata": {},
     "output_type": "execute_result"
    }
   ],
   "source": [
    "# Bigramas de la primera oracion\n",
    "sentence_bigrams[0]"
   ]
  },
  {
   "cell_type": "code",
   "execution_count": 11,
   "metadata": {},
   "outputs": [],
   "source": [
    "# Bigramas de todo el corpus\n",
    "corpus_bigrams = [bigram for sentence in sentence_bigrams for bigram in sentence]"
   ]
  },
  {
   "cell_type": "code",
   "execution_count": 12,
   "metadata": {},
   "outputs": [
    {
     "data": {
      "text/plain": [
       "[('<BOS>', 'comenc'),\n",
       " ('comenc', 'a'),\n",
       " ('a', 'trabaj'),\n",
       " ('trabaj', 'y'),\n",
       " ('y', 'me'),\n",
       " ('me', 'peg'),\n",
       " ('peg', 'me'),\n",
       " ('me', 'maltrat'),\n",
       " ('maltrat', 'con'),\n",
       " ('con', 'chicot'),\n",
       " ('chicot', '<EOS>')]"
      ]
     },
     "execution_count": 12,
     "metadata": {},
     "output_type": "execute_result"
    }
   ],
   "source": [
    "corpus_bigrams[0:11]"
   ]
  },
  {
   "cell_type": "code",
   "execution_count": 13,
   "metadata": {},
   "outputs": [],
   "source": [
    "# Obtener los vectores one hot de cada palabra en el corpus\n",
    "oneHotMatrix = np.identity(len(Sigma))"
   ]
  },
  {
   "cell_type": "code",
   "execution_count": 14,
   "metadata": {},
   "outputs": [],
   "source": [
    "word2oneHot = {}        # Entrada: palabra del alfabeto, Salida: vector one hot\n",
    "word2number = {}        # Entrada: palabra del alfabeto, Salida: indice en la lista del alfabeto\n",
    "oneHot2word = {}        # Entrada: vector one hot (caracteres), Salida: palabra del alfabeto\n",
    "\n",
    "for i, (word, vector) in enumerate(zip(Sigma, oneHotMatrix)):\n",
    "    word2oneHot[word] = vector\n",
    "    word2number[word] = i\n",
    "    oneHot2word[np.where(vector==1)[0][0]] = word"
   ]
  },
  {
   "cell_type": "code",
   "execution_count": 15,
   "metadata": {},
   "outputs": [
    {
     "data": {
      "text/plain": [
       "array([0., 0., 0., ..., 0., 0., 1.])"
      ]
     },
     "execution_count": 15,
     "metadata": {},
     "output_type": "execute_result"
    }
   ],
   "source": [
    "word2oneHot['<EOS>']"
   ]
  },
  {
   "cell_type": "code",
   "execution_count": 16,
   "metadata": {},
   "outputs": [
    {
     "data": {
      "text/plain": [
       "1215"
      ]
     },
     "execution_count": 16,
     "metadata": {},
     "output_type": "execute_result"
    }
   ],
   "source": [
    "word2number['<EOS>']"
   ]
  },
  {
   "cell_type": "markdown",
   "metadata": {},
   "source": [
    "### 4) Entrenar la red neuronal con los bigramas"
   ]
  },
  {
   "cell_type": "markdown",
   "metadata": {},
   "source": [
    "Dados los bigramas del corpus $(w_i, w_j)$, la red neuronal word2vec es entrenada tomando como entrada y salida a la representacion vectorial *one hot encoded* de la palabra $w_i$ y la palabra $w_j$ respectivamente.\n",
    "\n",
    "Los vectores de entrada tienen una dimension $x\\in\\mathbb{R}^{|\\Sigma|}$ , que es el tamaño del alfabeto que obtuvimos a partir de los tipos del corpus.\n",
    "\n",
    "En cuanto a la dimension de la primera capa (embedding), sera de 300 unidades neuronales por lo que la matriz de pesos tiene una dimension $U\\in\\mathbb{R}^{300x|\\Sigma|}$.\n",
    "\n",
    "Las dimensiones de la matriz de pesos de la segunda capa son de $W\\in\\mathbb{R}^{|\\Sigma|x300}$."
   ]
  },
  {
   "cell_type": "markdown",
   "metadata": {},
   "source": [
    "#### Feed forward\n",
    "\n",
    "**Capa 1**\n",
    "\n",
    "La salida de la i-ésima neurona de la primera capa se calcula como: \n",
    "\n",
    "$h_i = \\sum_{j=1}^{N}U_{ij}x_j$\n",
    "\n",
    "Tambien se puede expresar de forma más general como el producto punto:\n",
    "\n",
    "$h = U \\cdot x$\n",
    "\n",
    "$h = U_{\\cdot,i}$\n",
    "\n",
    "Este vector tiene una dimension $h\\in\\mathbb{R}^{300}$, por lo que realizar el producto punto entre la matriz de pesos $U$ y el vector one hot encoded $x$ que representa a la palabra $w_i$ es equivalente a seleccionar la columna i-ésima de $U$. \n",
    "\n",
    "**Capa 2**\n",
    "\n",
    "La salida de la segunda capa se calcula como:\n",
    "\n",
    "$a = W\\cdot{h}$ \n",
    "\n",
    "$a = W_{i,\\cdot}$\n",
    "\n",
    "y tiene una dimension de $a\\in\\mathbb{R}^{|\\Sigma|}$, lo cual es equivalente a seleccionar la fila i-ésima de la matriz $W$.\n",
    "\n",
    "**Salida**\n",
    "\n",
    "La funcion de activacion a la salida de esta ultima capa es la funcion *softmax* en la cual se calcula la probabilidad de que la palabra $w_k$ donde $k=1,...,|\\Sigma|$ , aparesca despues de la palabra de entrada $w_i$, lo cual se expresa como:\n",
    "\n",
    "$p(w_k|w_i) = \\frac{e^{W\\cdot{h}}}{\\sum_{m}^{|\\Sigma|}e^{W\\cdot{h}}}$"
   ]
  },
  {
   "cell_type": "code",
   "execution_count": 17,
   "metadata": {},
   "outputs": [],
   "source": [
    "d = 300                                  # Dimension del embedding\n",
    "N = len(Sigma)                           # Tamaño del alfabeto\n",
    "                            \n",
    "U = np.random.randn(d, N)/np.sqrt(d+N)   # Matriz de embedding \n",
    "W = np.random.randn(N, d)/np.sqrt(d+N)   # Matriz de pesos capa 2"
   ]
  },
  {
   "cell_type": "code",
   "execution_count": 96,
   "metadata": {},
   "outputs": [],
   "source": [
    "def softmax(x):\n",
    "    exp = np.exp(x-np.max(x))\n",
    "    return np.divide(exp, np.sum(exp))"
   ]
  },
  {
   "cell_type": "code",
   "execution_count": 127,
   "metadata": {},
   "outputs": [],
   "source": [
    "def predict(x):\n",
    "    h = np.dot(U, x)\n",
    "    a = np.dot(W, h)\n",
    "    return softmax(a)"
   ]
  },
  {
   "cell_type": "code",
   "execution_count": 165,
   "metadata": {},
   "outputs": [],
   "source": [
    "def fit(bigrams, lr, epochs):\n",
    "    global U, W\n",
    "    lossWi = []\n",
    "    loss = []\n",
    "    for epoch in range(epochs):\n",
    "        for k, (wi, wj) in enumerate(bigrams):\n",
    "            x = word2oneHot[wi]\n",
    "            y = word2oneHot[wj]\n",
    "            # Feedforward\n",
    "            h = np.dot(U, x)\n",
    "            a = np.dot(W, h)\n",
    "            # Calcular error\n",
    "            error = softmax(a) - y\n",
    "            # ---- Calcular funcion de perdida ----\n",
    "            lossWi.append(np.sum(y*np.log(softmax(a)+0.001)))\n",
    "            if k == len(bigrams)-1:\n",
    "                loss.append(-np.sum(lossWi))\n",
    "                lossWi.clear()\n",
    "                print('EPOCH ({}) = {}'.format(epoch+1, loss[epoch]))\n",
    "            # -------------------------------------\n",
    "            # Backpropragation\n",
    "            #W[np.where(y==1)[0][0],:] -= lr*error[np.where(y==1)[0][0]]*h\n",
    "            W -= lr*np.dot(error.reshape(-1,1), h.reshape(1,-1))\n",
    "            delta = np.dot(W.T, error)\n",
    "            #U[:,np.where(x==1)[0][0]] -= lr*delta\n",
    "            U -= lr*np.dot(delta.reshape(-1,1), x.reshape(1,-1))\n",
    "    return loss"
   ]
  },
  {
   "cell_type": "code",
   "execution_count": 143,
   "metadata": {},
   "outputs": [],
   "source": [
    "U = np.random.randn(d, N)    # Matriz de embedding \n",
    "W = np.random.randn(N, d)    # Matriz de pesos capa 2"
   ]
  },
  {
   "cell_type": "code",
   "execution_count": 145,
   "metadata": {
    "scrolled": true
   },
   "outputs": [
    {
     "name": "stdout",
     "output_type": "stream",
     "text": [
      "EPOCH (1) = 78495.76357972821\n",
      "EPOCH (2) = 69819.4297533936\n",
      "EPOCH (3) = 64870.84009362329\n",
      "EPOCH (4) = 61659.24320218148\n",
      "EPOCH (5) = 59170.181566900734\n",
      "EPOCH (6) = 57139.90882659787\n",
      "EPOCH (7) = 55386.037151381795\n",
      "EPOCH (8) = 53901.66160667138\n",
      "EPOCH (9) = 52624.078315368024\n",
      "EPOCH (10) = 51565.58939642373\n",
      "EPOCH (11) = 50585.65909070141\n",
      "EPOCH (12) = 49686.6352201377\n",
      "EPOCH (13) = 48911.18104010004\n",
      "EPOCH (14) = 48218.97260633773\n",
      "EPOCH (15) = 47601.8909349069\n",
      "EPOCH (16) = 47037.88349906855\n",
      "EPOCH (17) = 46516.795794799094\n",
      "EPOCH (18) = 46047.229862998065\n",
      "EPOCH (19) = 45599.26004480569\n",
      "EPOCH (20) = 45248.280470864716\n",
      "EPOCH (21) = 44966.913677593344\n",
      "EPOCH (22) = 44711.649261437524\n",
      "EPOCH (23) = 44489.43107336832\n",
      "EPOCH (24) = 44327.448912616135\n",
      "EPOCH (25) = 44185.136740651295\n",
      "EPOCH (26) = 44063.607173893404\n",
      "EPOCH (27) = 43968.474418608894\n",
      "EPOCH (28) = 43896.91434301148\n",
      "EPOCH (29) = 43842.20099495119\n",
      "EPOCH (30) = 43798.14876744807\n",
      "EPOCH (31) = 43763.5353378822\n",
      "EPOCH (32) = 43731.71922565721\n",
      "EPOCH (33) = 43699.48281969705\n",
      "EPOCH (34) = 43670.89480135148\n",
      "EPOCH (35) = 43647.26567347002\n",
      "EPOCH (36) = 43626.54457996819\n",
      "EPOCH (37) = 43608.12462651112\n",
      "EPOCH (38) = 43591.77544019395\n",
      "EPOCH (39) = 43577.43622614829\n",
      "EPOCH (40) = 43565.09800204651\n",
      "EPOCH (41) = 43554.782786074604\n",
      "EPOCH (42) = 43546.53947409218\n",
      "EPOCH (43) = 43540.44346247669\n",
      "EPOCH (44) = 43536.598131207225\n",
      "EPOCH (45) = 43535.13788468858\n",
      "EPOCH (46) = 43536.23271992721\n",
      "EPOCH (47) = 43540.094329365544\n",
      "EPOCH (48) = 43546.98371536519\n",
      "EPOCH (49) = 43557.22021681932\n",
      "EPOCH (50) = 43571.191718065624\n",
      "EPOCH (51) = 43589.36561884772\n",
      "EPOCH (52) = 43612.29991899816\n",
      "EPOCH (53) = 43640.65361877708\n",
      "EPOCH (54) = 43675.19574044096\n",
      "EPOCH (55) = 43716.81278025221\n",
      "EPOCH (56) = 43766.51517023745\n",
      "EPOCH (57) = 43825.44384877736\n",
      "EPOCH (58) = 43894.87768067108\n",
      "EPOCH (59) = 43976.240792333345\n",
      "EPOCH (60) = 44071.10478022993\n",
      "EPOCH (61) = 44181.170923987884\n",
      "EPOCH (62) = 44308.20034818187\n",
      "EPOCH (63) = 44453.853483959865\n",
      "EPOCH (64) = 44619.45945413098\n",
      "EPOCH (65) = 44805.73066122756\n",
      "EPOCH (66) = 45010.874528678214\n",
      "EPOCH (67) = 45224.682903159235\n",
      "EPOCH (68) = 45427.36097617063\n",
      "EPOCH (69) = 45597.295269367474\n",
      "EPOCH (70) = 45723.93785389481\n",
      "EPOCH (71) = 45809.606584695386\n",
      "EPOCH (72) = 45862.46754514351\n",
      "EPOCH (73) = 45891.4374140688\n",
      "EPOCH (74) = 45903.983032648524\n",
      "EPOCH (75) = 45906.26100971151\n",
      "EPOCH (76) = 45902.65261537215\n",
      "EPOCH (77) = 45895.92293688646\n",
      "EPOCH (78) = 45887.69587353972\n",
      "EPOCH (79) = 45878.86260383895\n",
      "EPOCH (80) = 45869.88006183613\n",
      "EPOCH (81) = 45860.96708528578\n",
      "EPOCH (82) = 45852.221527390415\n",
      "EPOCH (83) = 45843.684146849075\n",
      "EPOCH (84) = 45835.37076636803\n",
      "EPOCH (85) = 45827.28728574969\n",
      "EPOCH (86) = 45819.4361795852\n",
      "EPOCH (87) = 45811.81909791785\n",
      "EPOCH (88) = 45804.43782905077\n",
      "EPOCH (89) = 45797.29463340372\n",
      "EPOCH (90) = 45790.3923574497\n",
      "EPOCH (91) = 45783.73447677588\n",
      "EPOCH (92) = 45777.32511594458\n",
      "EPOCH (93) = 45771.16905740059\n",
      "EPOCH (94) = 45765.27174050803\n",
      "EPOCH (95) = 45759.63924847802\n",
      "EPOCH (96) = 45754.278279847866\n",
      "EPOCH (97) = 45749.19610067025\n",
      "EPOCH (98) = 45744.40047331159\n",
      "EPOCH (99) = 45739.899557733894\n",
      "EPOCH (100) = 45735.701781424475\n"
     ]
    }
   ],
   "source": [
    "err = fit(corpus_bigrams, 0.005, 100)"
   ]
  },
  {
   "cell_type": "code",
   "execution_count": 169,
   "metadata": {},
   "outputs": [],
   "source": [
    "# Guardar parametros de la red\n",
    "with open('weights.pickle', 'wb') as file:\n",
    "    pickle.dump([U, W], file)"
   ]
  },
  {
   "cell_type": "code",
   "execution_count": 176,
   "metadata": {},
   "outputs": [
    {
     "name": "stdout",
     "output_type": "stream",
     "text": [
      "(300, 1216)\n",
      "(1216, 300)\n"
     ]
    }
   ],
   "source": [
    "# Leer el archivo con los parametros\n",
    "# y verificar que sean correctos\n",
    "with open('weights.pickle', 'rb') as file:\n",
    "    w1, w2 = pickle.load(file)\n",
    "    \n",
    "print(w1.shape)\n",
    "print(w2.shape)"
   ]
  },
  {
   "cell_type": "code",
   "execution_count": 184,
   "metadata": {},
   "outputs": [
    {
     "name": "stdout",
     "output_type": "stream",
     "text": [
      "Suma =  0.9999999999999999\n",
      "Indice palabra pred =  338\n",
      "Prediccion =  mazorc\n",
      "P(mazorc|las) = 0.1340846536942608\n",
      "las mazorc\n"
     ]
    }
   ],
   "source": [
    "# Prueba de prediccion\n",
    "word = 'las'\n",
    "wordVector = word2oneHot[stemmer.stem(word)]\n",
    "pred = predict(wordVector)\n",
    "print('Suma = ', np.sum(pred))                    # Suma para verificar que sea igual a 1\n",
    "indice = np.argmax(pred)                          # Indice de la palabra con mayor probilidad\n",
    "word_predicted = oneHot2word[indice] \n",
    "\n",
    "print('Indice palabra pred = ', indice)\n",
    "print('Prediccion = ', word_predicted)\n",
    "print('P({}|{}) = {}'.format(word_predicted, word, pred[indice]))\n",
    "print(word + ' ' + word_predicted)"
   ]
  },
  {
   "cell_type": "code",
   "execution_count": 185,
   "metadata": {},
   "outputs": [
    {
     "data": {
      "image/png": "[encoded data removed]",
      "text/plain": [
       "<Figure size 720x360 with 1 Axes>"
      ]
     },
     "metadata": {
      "needs_background": "light"
     },
     "output_type": "display_data"
    }
   ],
   "source": [
    "plt.figure(figsize=(10,5))\n",
    "plt.title('')\n",
    "plt.plot(err, 'r')\n",
    "plt.xlabel('Epochs')\n",
    "plt.ylabel('Loss')\n",
    "plt.grid()\n",
    "plt.show()"
   ]
  },
  {
   "cell_type": "markdown",
   "metadata": {},
   "source": [
    "### 5) Obtener las matrices $A$ y $\\Pi$"
   ]
  },
  {
   "cell_type": "code",
   "execution_count": 278,
   "metadata": {},
   "outputs": [],
   "source": [
    "# Para cada palabra del alfabeto, predecir el vector de probabilidades\n",
    "# y agruparlos por columna para hacer la matriz A\n",
    "\n",
    "# A = []\n",
    "\n",
    "# for wj in Sigma[:-2]:\n",
    "#     aj = predict(word2oneHot[wj])\n",
    "#     A.append(list(aj))\n",
    "    \n",
    "# A = np.matrix(A).T"
   ]
  },
  {
   "cell_type": "code",
   "execution_count": 280,
   "metadata": {},
   "outputs": [],
   "source": [
    "# El vector de inicio se obtiene al predecir la distribucion\n",
    "# para el simbolo <BOS>\n",
    "# Pi = predict(word2oneHot['<BOS>'])"
   ]
  },
  {
   "cell_type": "markdown",
   "metadata": {},
   "source": [
    "### 6) Calcular la propabilidad de las siguientes oraciones\n",
    "\n",
    "Se calcularan usando la propiedad de Markov que establece que:\n",
    "\n",
    "$p(x_1,...,x_n)=\\prod_{i=1}^{n}p(w_{i}|w_{i-1})$"
   ]
  },
  {
   "cell_type": "markdown",
   "metadata": {},
   "source": [
    "1) Nos ba;amos con agua caliente\n",
    "\n",
    "$p(caliente|agua)p(agua|con)p(con|banamos)p(banamos|nos)p(nos|bos)$"
   ]
  },
  {
   "cell_type": "code",
   "execution_count": 299,
   "metadata": {},
   "outputs": [],
   "source": [
    "#s = 'Nos banamos con agua caliente'.split()\n",
    "# s = '<BOS> pascuala ordenaba las vacas'.split()\n",
    "# s[1:] = [stemmer.stem(word.lower()) for word in s[1:]]"
   ]
  },
  {
   "cell_type": "code",
   "execution_count": 300,
   "metadata": {},
   "outputs": [],
   "source": [
    "#j = word2number['las']\n",
    "#i = word2number['vacas']\n",
    "\n",
    "#A[i,j]"
   ]
  },
  {
   "cell_type": "code",
   "execution_count": 301,
   "metadata": {},
   "outputs": [],
   "source": [
    "#Pi[word2number['pues']]"
   ]
  },
  {
   "cell_type": "code",
   "execution_count": 302,
   "metadata": {},
   "outputs": [
    {
     "name": "stdout",
     "output_type": "stream",
     "text": [
      "p(s) =  2.425589910422211e-19\n"
     ]
    }
   ],
   "source": [
    "# p = 1\n",
    "\n",
    "# for wi, wj in zip(s[:-1], s[1:]):\n",
    "#     if wi == '<BOS>':\n",
    "#         p *= Pi[word2number[wj]]\n",
    "#     else:\n",
    "#         i = word2number[wj]\n",
    "#         j = word2number[wi]\n",
    "#         p *= A[i,j]\n",
    "        \n",
    "# print('p(s) = ', p)"
   ]
  }
 ],
 "metadata": {
  "kernelspec": {
   "display_name": "Python 3",
   "language": "python",
   "name": "python3"
  },
  "language_info": {
   "codemirror_mode": {
    "name": "ipython",
    "version": 3
   },
   "file_extension": ".py",
   "mimetype": "text/x-python",
   "name": "python",
   "nbconvert_exporter": "python",
   "pygments_lexer": "ipython3",
   "version": "3.7.1"
  }
 },
 "nbformat": 4,
 "nbformat_minor": 2
}
