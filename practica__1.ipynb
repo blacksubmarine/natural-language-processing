{
  "nbformat": 4,
  "nbformat_minor": 0,
  "metadata": {
    "colab": {
      "name": "practica__1.ipynb",
      "version": "0.3.2",
      "provenance": [],
      "collapsed_sections": [],
      "include_colab_link": true
    },
    "kernelspec": {
      "name": "python3",
      "display_name": "Python 3"
    }
  },
  "cells": [
    {
      "cell_type": "markdown",
      "metadata": {
        "id": "view-in-github",
        "colab_type": "text"
      },
      "source": [
        "<a href=\"https://colab.research.google.com/github/sjukdom/natural-language-processing/blob/master/practica__1.ipynb\" target=\"_parent\"><img src=\"https://colab.research.google.com/assets/colab-badge.svg\" alt=\"Open In Colab\"/></a>"
      ]
    },
    {
      "metadata": {
        "id": "anX55lfRy6Se",
        "colab_type": "code",
        "colab": {
          "base_uri": "https://localhost:8080/",
          "height": 34
        },
        "outputId": "20b46f9d-f934-4e21-e24d-aa288535640f"
      },
      "cell_type": "code",
      "source": [
        "#!pwd"
      ],
      "execution_count": 1,
      "outputs": [
        {
          "output_type": "stream",
          "text": [
            "/content\n"
          ],
          "name": "stdout"
        }
      ]
    },
    {
      "metadata": {
        "id": "0KWkEep-zcc7",
        "colab_type": "code",
        "colab": {
          "base_uri": "https://localhost:8080/",
          "height": 121
        },
        "outputId": "5ddf1aa1-8e47-4111-9a4e-90b677777cca"
      },
      "cell_type": "code",
      "source": [
        "#!git clone https://github.com/sjukdom/natural-language-processing.git"
      ],
      "execution_count": 11,
      "outputs": [
        {
          "output_type": "stream",
          "text": [
            "Cloning into 'natural-language-processing'...\n",
            "remote: Enumerating objects: 9, done.\u001b[K\n",
            "remote: Counting objects: 100% (9/9), done.\u001b[K\n",
            "remote: Compressing objects: 100% (8/8), done.\u001b[K\n",
            "remote: Total 9 (delta 0), reused 6 (delta 0), pack-reused 0\u001b[K\n",
            "Unpacking objects: 100% (9/9), done.\n"
          ],
          "name": "stdout"
        }
      ]
    },
    {
      "metadata": {
        "id": "SXpnB94Zzl-O",
        "colab_type": "code",
        "colab": {
          "base_uri": "https://localhost:8080/",
          "height": 34
        },
        "outputId": "d592c492-2a0c-4bdb-a622-8eecd7650a10"
      },
      "cell_type": "code",
      "source": [
        "#cd natural-language-processing/tarea-1"
      ],
      "execution_count": 17,
      "outputs": [
        {
          "output_type": "stream",
          "text": [
            "/content/natural-language-processing/tarea-1\n"
          ],
          "name": "stdout"
        }
      ]
    },
    {
      "metadata": {
        "id": "k6wHPS2M0ubu",
        "colab_type": "code",
        "colab": {
          "base_uri": "https://localhost:8080/",
          "height": 34
        },
        "outputId": "ea5e8118-b45f-4d74-8b2f-7ed3402765ce"
      },
      "cell_type": "code",
      "source": [
        "!ls"
      ],
      "execution_count": 25,
      "outputs": [
        {
          "output_type": "stream",
          "text": [
            "CorpusDocs  practica-1.ipynb\n"
          ],
          "name": "stdout"
        }
      ]
    },
    {
      "metadata": {
        "id": "rAy0Ypjq0JNT",
        "colab_type": "code",
        "colab": {
          "base_uri": "https://localhost:8080/",
          "height": 3681
        },
        "outputId": "35a78b1e-319f-4877-de61-88af1ebf6835"
      },
      "cell_type": "code",
      "source": [
        "#!git pull origin master"
      ],
      "execution_count": 23,
      "outputs": [
        {
          "output_type": "stream",
          "text": [
            "remote: Enumerating objects: 105, done.\u001b[K\n",
            "remote: Counting objects:   0% (1/105)   \u001b[K\rremote: Counting objects:   1% (2/105)   \u001b[K\rremote: Counting objects:   2% (3/105)   \u001b[K\rremote: Counting objects:   3% (4/105)   \u001b[K\rremote: Counting objects:   4% (5/105)   \u001b[K\rremote: Counting objects:   5% (6/105)   \u001b[K\rremote: Counting objects:   6% (7/105)   \u001b[K\rremote: Counting objects:   7% (8/105)   \u001b[K\rremote: Counting objects:   8% (9/105)   \u001b[K\rremote: Counting objects:   9% (10/105)   \u001b[K\rremote: Counting objects:  10% (11/105)   \u001b[K\rremote: Counting objects:  11% (12/105)   \u001b[K\rremote: Counting objects:  12% (13/105)   \u001b[K\rremote: Counting objects:  13% (14/105)   \u001b[K\rremote: Counting objects:  14% (15/105)   \u001b[K\rremote: Counting objects:  15% (16/105)   \u001b[K\rremote: Counting objects:  16% (17/105)   \u001b[K\rremote: Counting objects:  17% (18/105)   \u001b[K\rremote: Counting objects:  18% (19/105)   \u001b[K\rremote: Counting objects:  19% (20/105)   \u001b[K\rremote: Counting objects:  20% (21/105)   \u001b[K\rremote: Counting objects:  21% (23/105)   \u001b[K\rremote: Counting objects:  22% (24/105)   \u001b[K\rremote: Counting objects:  23% (25/105)   \u001b[K\rremote: Counting objects:  24% (26/105)   \u001b[K\rremote: Counting objects:  25% (27/105)   \u001b[K\rremote: Counting objects:  26% (28/105)   \u001b[K\rremote: Counting objects:  27% (29/105)   \u001b[K\rremote: Counting objects:  28% (30/105)   \u001b[K\rremote: Counting objects:  29% (31/105)   \u001b[K\rremote: Counting objects:  30% (32/105)   \u001b[K\rremote: Counting objects:  31% (33/105)   \u001b[K\rremote: Counting objects:  32% (34/105)   \u001b[K\rremote: Counting objects:  33% (35/105)   \u001b[K\rremote: Counting objects:  34% (36/105)   \u001b[K\rremote: Counting objects:  35% (37/105)   \u001b[K\rremote: Counting objects:  36% (38/105)   \u001b[K\rremote: Counting objects:  37% (39/105)   \u001b[K\rremote: Counting objects:  38% (40/105)   \u001b[K\rremote: Counting objects:  39% (41/105)   \u001b[K\rremote: Counting objects:  40% (42/105)   \u001b[K\rremote: Counting objects:  41% (44/105)   \u001b[K\rremote: Counting objects:  42% (45/105)   \u001b[K\rremote: Counting objects:  43% (46/105)   \u001b[K\rremote: Counting objects:  44% (47/105)   \u001b[K\rremote: Counting objects:  45% (48/105)   \u001b[K\rremote: Counting objects:  46% (49/105)   \u001b[K\rremote: Counting objects:  47% (50/105)   \u001b[K\rremote: Counting objects:  48% (51/105)   \u001b[K\rremote: Counting objects:  49% (52/105)   \u001b[K\rremote: Counting objects:  50% (53/105)   \u001b[K\rremote: Counting objects:  51% (54/105)   \u001b[K\rremote: Counting objects:  52% (55/105)   \u001b[K\rremote: Counting objects:  53% (56/105)   \u001b[K\rremote: Counting objects:  54% (57/105)   \u001b[K\rremote: Counting objects:  55% (58/105)   \u001b[K\rremote: Counting objects:  56% (59/105)   \rremote: Counting objects:  57% (60/105)   \u001b[K\rremote: Counting objects:  58% (61/105)   \u001b[K\rremote: Counting objects:  59% (62/105)   \u001b[K\rremote: Counting objects:  60% (63/105)   \u001b[K\rremote: Counting objects:  61% (65/105)   \u001b[K\rremote: Counting objects:  62% (66/105)   \u001b[K\rremote: Counting objects:  63% (67/105)   \u001b[K\rremote: Counting objects:  64% (68/105)   \u001b[K\rremote: Counting objects:  65% (69/105)   \u001b[K\rremote: Counting objects:  66% (70/105)   \u001b[K\rremote: Counting objects:  67% (71/105)   \u001b[K\rremote: Counting objects:  68% (72/105)   \u001b[K\rremote: Counting objects:  69% (73/105)   \u001b[K\rremote: Counting objects:  70% (74/105)   \u001b[K\rremote: Counting objects:  71% (75/105)   \u001b[K\rremote: Counting objects:  72% (76/105)   \u001b[K\rremote: Counting objects:  73% (77/105)   \u001b[K\rremote: Counting objects:  74% (78/105)   \u001b[K\rremote: Counting objects:  75% (79/105)   \u001b[K\rremote: Counting objects:  76% (80/105)   \u001b[K\rremote: Counting objects:  77% (81/105)   \u001b[K\rremote: Counting objects:  78% (82/105)   \u001b[K\rremote: Counting objects:  79% (83/105)   \u001b[K\rremote: Counting objects:  80% (84/105)   \u001b[K\rremote: Counting objects:  81% (86/105)   \u001b[K\rremote: Counting objects:  82% (87/105)   \u001b[K\rremote: Counting objects:  83% (88/105)   \u001b[K\rremote: Counting objects:  84% (89/105)   \u001b[K\rremote: Counting objects:  85% (90/105)   \u001b[K\rremote: Counting objects:  86% (91/105)   \u001b[K\rremote: Counting objects:  87% (92/105)   \u001b[K\rremote: Counting objects:  88% (93/105)   \u001b[K\rremote: Counting objects:  89% (94/105)   \u001b[K\rremote: Counting objects:  90% (95/105)   \u001b[K\rremote: Counting objects:  91% (96/105)   \u001b[K\rremote: Counting objects:  92% (97/105)   \u001b[K\rremote: Counting objects:  93% (98/105)   \u001b[K\rremote: Counting objects:  94% (99/105)   \u001b[K\rremote: Counting objects:  95% (100/105)   \u001b[K\rremote: Counting objects:  96% (101/105)   \u001b[K\rremote: Counting objects:  97% (102/105)   \u001b[K\rremote: Counting objects:  98% (103/105)   \u001b[K\rremote: Counting objects:  99% (104/105)   \u001b[K\rremote: Counting objects: 100% (105/105)   \u001b[K\rremote: Counting objects: 100% (105/105), done.\u001b[K\n",
            "remote: Compressing objects:   0% (1/103)   \u001b[K\rremote: Compressing objects:   1% (2/103)   \u001b[K\rremote: Compressing objects:   2% (3/103)   \u001b[K\rremote: Compressing objects:   3% (4/103)   \u001b[K\rremote: Compressing objects:   4% (5/103)   \u001b[K\rremote: Compressing objects:   5% (6/103)   \u001b[K\rremote: Compressing objects:   6% (7/103)   \u001b[K\rremote: Compressing objects:   7% (8/103)   \u001b[K\rremote: Compressing objects:   8% (9/103)   \u001b[K\rremote: Compressing objects:   9% (10/103)   \u001b[K\rremote: Compressing objects:  10% (11/103)   \u001b[K\rremote: Compressing objects:  11% (12/103)   \u001b[K\rremote: Compressing objects:  12% (13/103)   \u001b[K\rremote: Compressing objects:  13% (14/103)   \u001b[K\rremote: Compressing objects:  14% (15/103)   \u001b[K\rremote: Compressing objects:  15% (16/103)   \u001b[K\rremote: Compressing objects:  16% (17/103)   \u001b[K\rremote: Compressing objects:  17% (18/103)   \u001b[K\rremote: Compressing objects:  18% (19/103)   \u001b[K\rremote: Compressing objects:  19% (20/103)   \u001b[K\rremote: Compressing objects:  20% (21/103)   \u001b[K\rremote: Compressing objects:  21% (22/103)   \u001b[K\rremote: Compressing objects:  22% (23/103)   \u001b[K\rremote: Compressing objects:  23% (24/103)   \u001b[K\rremote: Compressing objects:  24% (25/103)   \u001b[K\rremote: Compressing objects:  25% (26/103)   \u001b[K\rremote: Compressing objects:  26% (27/103)   \u001b[K\rremote: Compressing objects:  27% (28/103)   \u001b[K\rremote: Compressing objects:  28% (29/103)   \u001b[K\rremote: Compressing objects:  29% (30/103)   \u001b[K\rremote: Compressing objects:  30% (31/103)   \u001b[K\rremote: Compressing objects:  31% (32/103)   \u001b[K\rremote: Compressing objects:  32% (33/103)   \u001b[K\rremote: Compressing objects:  33% (34/103)   \u001b[K\rremote: Compressing objects:  34% (36/103)   \u001b[K\rremote: Compressing objects:  35% (37/103)   \u001b[K\rremote: Compressing objects:  36% (38/103)   \u001b[K\rremote: Compressing objects:  37% (39/103)   \u001b[K\rremote: Compressing objects:  38% (40/103)   \u001b[K\rremote: Compressing objects:  39% (41/103)   \u001b[K\rremote: Compressing objects:  40% (42/103)   \u001b[K\rremote: Compressing objects:  41% (43/103)   \u001b[K\rremote: Compressing objects:  42% (44/103)   \u001b[K\rremote: Compressing objects:  43% (45/103)   \u001b[K\rremote: Compressing objects:  44% (46/103)   \u001b[K\rremote: Compressing objects:  45% (47/103)   \u001b[K\rremote: Compressing objects:  46% (48/103)   \u001b[K\rremote: Compressing objects:  47% (49/103)   \u001b[K\rremote: Compressing objects:  48% (50/103)   \u001b[K\rremote: Compressing objects:  49% (51/103)   \u001b[K\rremote: Compressing objects:  50% (52/103)   \u001b[K\rremote: Compressing objects:  51% (53/103)   \u001b[K\rremote: Compressing objects:  52% (54/103)   \u001b[K\rremote: Compressing objects:  53% (55/103)   \u001b[K\rremote: Compressing objects:  54% (56/103)   \u001b[K\rremote: Compressing objects:  55% (57/103)   \u001b[K\rremote: Compressing objects:  56% (58/103)   \u001b[K\rremote: Compressing objects:  57% (59/103)   \u001b[K\rremote: Compressing objects:  58% (60/103)   \u001b[K\rremote: Compressing objects:  59% (61/103)   \u001b[K\rremote: Compressing objects:  60% (62/103)   \u001b[K\rremote: Compressing objects:  61% (63/103)   \u001b[K\rremote: Compressing objects:  62% (64/103)   \u001b[K\rremote: Compressing objects:  63% (65/103)   \u001b[K\rremote: Compressing objects:  64% (66/103)   \u001b[K\rremote: Compressing objects:  65% (67/103)   \u001b[K\rremote: Compressing objects:  66% (68/103)   \u001b[K\rremote: Compressing objects:  67% (70/103)   \u001b[K\rremote: Compressing objects:  68% (71/103)   \u001b[K\rremote: Compressing objects:  69% (72/103)   \u001b[K\rremote: Compressing objects:  70% (73/103)   \u001b[K\rremote: Compressing objects:  71% (74/103)   \u001b[K\rremote: Compressing objects:  72% (75/103)   \u001b[K\rremote: Compressing objects:  73% (76/103)   \u001b[K\rremote: Compressing objects:  74% (77/103)   \u001b[K\rremote: Compressing objects:  75% (78/103)   \u001b[K\rremote: Compressing objects:  76% (79/103)   \u001b[K\rremote: Compressing objects:  77% (80/103)   \u001b[K\rremote: Compressing objects:  78% (81/103)   \u001b[K\rremote: Compressing objects:  79% (82/103)   \u001b[K\rremote: Compressing objects:  80% (83/103)   \u001b[K\rremote: Compressing objects:  81% (84/103)   \u001b[K\rremote: Compressing objects:  82% (85/103)   \u001b[K\rremote: Compressing objects:  83% (86/103)   \u001b[K\rremote: Compressing objects:  84% (87/103)   \u001b[K\rremote: Compressing objects:  85% (88/103)   \u001b[K\rremote: Compressing objects:  86% (89/103)   \u001b[K\rremote: Compressing objects:  87% (90/103)   \u001b[K\rremote: Compressing objects:  88% (91/103)   \u001b[K\rremote: Compressing objects:  89% (92/103)   \u001b[K\rremote: Compressing objects:  90% (93/103)   \u001b[K\rremote: Compressing objects:  91% (94/103)   \u001b[K\rremote: Compressing objects:  92% (95/103)   \u001b[K\rremote: Compressing objects:  93% (96/103)   \u001b[K\rremote: Compressing objects:  94% (97/103)   \u001b[K\rremote: Compressing objects:  95% (98/103)   \u001b[K\rremote: Compressing objects:  96% (99/103)   \u001b[K\rremote: Compressing objects:  97% (100/103)   \u001b[K\rremote: Compressing objects:  98% (101/103)   \u001b[K\rremote: Compressing objects:  99% (102/103)   \u001b[K\rremote: Compressing objects: 100% (103/103)   \u001b[K\rremote: Compressing objects: 100% (103/103), done.\u001b[K\n",
            "Receiving objects:   0% (1/103)   \rReceiving objects:   1% (2/103)   \rReceiving objects:   2% (3/103)   \rReceiving objects:   3% (4/103)   \rReceiving objects:   4% (5/103)   \rReceiving objects:   5% (6/103)   \rReceiving objects:   6% (7/103)   \rReceiving objects:   7% (8/103)   \rReceiving objects:   8% (9/103)   \rReceiving objects:   9% (10/103)   \rReceiving objects:  10% (11/103)   \rReceiving objects:  11% (12/103)   \rReceiving objects:  12% (13/103)   \rReceiving objects:  13% (14/103)   \rReceiving objects:  14% (15/103)   \rReceiving objects:  15% (16/103)   \rReceiving objects:  16% (17/103)   \rReceiving objects:  17% (18/103)   \rReceiving objects:  18% (19/103)   \rReceiving objects:  19% (20/103)   \rReceiving objects:  20% (21/103)   \rReceiving objects:  21% (22/103)   \rReceiving objects:  22% (23/103)   \rReceiving objects:  23% (24/103)   \rReceiving objects:  24% (25/103)   \rReceiving objects:  25% (26/103)   \rReceiving objects:  26% (27/103)   \rReceiving objects:  27% (28/103)   \rReceiving objects:  28% (29/103)   \rReceiving objects:  29% (30/103)   \rReceiving objects:  30% (31/103)   \rReceiving objects:  31% (32/103)   \rReceiving objects:  32% (33/103)   \rReceiving objects:  33% (34/103)   \rReceiving objects:  34% (36/103)   \rReceiving objects:  35% (37/103)   \rReceiving objects:  36% (38/103)   \rReceiving objects:  37% (39/103)   \rReceiving objects:  38% (40/103)   \rReceiving objects:  39% (41/103)   \rReceiving objects:  40% (42/103)   \rReceiving objects:  41% (43/103)   \rReceiving objects:  42% (44/103)   \rReceiving objects:  43% (45/103)   \rReceiving objects:  44% (46/103)   \rReceiving objects:  45% (47/103)   \rReceiving objects:  46% (48/103)   \rReceiving objects:  47% (49/103)   \rReceiving objects:  48% (50/103)   \rReceiving objects:  49% (51/103)   \rReceiving objects:  50% (52/103)   \rReceiving objects:  51% (53/103)   \rReceiving objects:  52% (54/103)   \rReceiving objects:  53% (55/103)   \rReceiving objects:  54% (56/103)   \rReceiving objects:  55% (57/103)   \rReceiving objects:  56% (58/103)   \rReceiving objects:  57% (59/103)   \rReceiving objects:  58% (60/103)   \rReceiving objects:  59% (61/103)   \rReceiving objects:  60% (62/103)   \rReceiving objects:  61% (63/103)   \rReceiving objects:  62% (64/103)   \rReceiving objects:  63% (65/103)   \rReceiving objects:  64% (66/103)   \rReceiving objects:  65% (67/103)   \rReceiving objects:  66% (68/103)   \rReceiving objects:  67% (70/103)   \rReceiving objects:  68% (71/103)   \rReceiving objects:  69% (72/103)   \rReceiving objects:  70% (73/103)   \rReceiving objects:  71% (74/103)   \rReceiving objects:  72% (75/103)   \rReceiving objects:  73% (76/103)   \rReceiving objects:  74% (77/103)   \rReceiving objects:  75% (78/103)   \rReceiving objects:  76% (79/103)   \rReceiving objects:  77% (80/103)   \rReceiving objects:  78% (81/103)   \rReceiving objects:  79% (82/103)   \rReceiving objects:  80% (83/103)   \rReceiving objects:  81% (84/103)   \rReceiving objects:  82% (85/103)   \rReceiving objects:  83% (86/103)   \rReceiving objects:  84% (87/103)   \rReceiving objects:  85% (88/103)   \rremote: Total 103 (delta 0), reused 103 (delta 0), pack-reused 0\u001b[K\n",
            "Receiving objects:  86% (89/103)   \rReceiving objects:  87% (90/103)   \rReceiving objects:  88% (91/103)   \rReceiving objects:  89% (92/103)   \rReceiving objects:  90% (93/103)   \rReceiving objects:  91% (94/103)   \rReceiving objects:  92% (95/103)   \rReceiving objects:  93% (96/103)   \rReceiving objects:  94% (97/103)   \rReceiving objects:  95% (98/103)   \rReceiving objects:  96% (99/103)   \rReceiving objects:  97% (100/103)   \rReceiving objects:  98% (101/103)   \rReceiving objects:  99% (102/103)   \rReceiving objects: 100% (103/103)   \rReceiving objects: 100% (103/103), 264.97 KiB | 7.57 MiB/s, done.\n",
            "From https://github.com/sjukdom/natural-language-processing\n",
            " * branch            master     -> FETCH_HEAD\n",
            "   8a2f20e..788a7a5  master     -> origin/master\n",
            "Updating 8a2f20e..788a7a5\n",
            "Fast-forward\n",
            " tarea-1/CorpusDocs/acustica (1).txt         |  42 \u001b[32m+++\u001b[m\n",
            " tarea-1/CorpusDocs/acustica (2).txt         |  72 \u001b[32m++++\u001b[m\n",
            " tarea-1/CorpusDocs/acustica (3).txt         |   1 \u001b[32m+\u001b[m\n",
            " tarea-1/CorpusDocs/acustica (4).txt         |  10 \u001b[32m+\u001b[m\n",
            " tarea-1/CorpusDocs/amor (1).txt             |   6 \u001b[32m+\u001b[m\n",
            " tarea-1/CorpusDocs/amor (2).txt             |   7 \u001b[32m+\u001b[m\n",
            " tarea-1/CorpusDocs/bieber (1).txt           |   6 \u001b[32m+\u001b[m\n",
            " tarea-1/CorpusDocs/bieber (2).txt           |   5 \u001b[32m+\u001b[m\n",
            " tarea-1/CorpusDocs/bioinfo (1).txt          |  16 \u001b[32m+\u001b[m\n",
            " tarea-1/CorpusDocs/bioinfo (2).txt          |  23 \u001b[32m++\u001b[m\n",
            " tarea-1/CorpusDocs/buchnera (1).txt         |  12 \u001b[32m+\u001b[m\n",
            " tarea-1/CorpusDocs/buchnera (2).txt         |   5 \u001b[32m+\u001b[m\n",
            " tarea-1/CorpusDocs/capoeira (1).txt         |   5 \u001b[32m+\u001b[m\n",
            " tarea-1/CorpusDocs/capoeira (2).txt         | 260 \u001b[32m+++++++++++++++\u001b[m\n",
            " tarea-1/CorpusDocs/celula (1).txt           |  74 \u001b[32m+++++\u001b[m\n",
            " tarea-1/CorpusDocs/celula (2).txt           |  27 \u001b[32m++\u001b[m\n",
            " tarea-1/CorpusDocs/celula (3).txt           |  65 \u001b[32m++++\u001b[m\n",
            " tarea-1/CorpusDocs/celula (4).txt           |  88 \u001b[32m+++++\u001b[m\n",
            " tarea-1/CorpusDocs/celula (5).txt           |  64 \u001b[32m++++\u001b[m\n",
            " tarea-1/CorpusDocs/celula (6).txt           |  26 \u001b[32m++\u001b[m\n",
            " tarea-1/CorpusDocs/celula (7).txt           |  41 \u001b[32m+++\u001b[m\n",
            " tarea-1/CorpusDocs/ciencia_historia (1).txt | 487 \u001b[32m++++++++++++++++++++++++++++\u001b[m\n",
            " tarea-1/CorpusDocs/ciencia_historia (2).txt |  47 \u001b[32m+++\u001b[m\n",
            " tarea-1/CorpusDocs/ciencia_historia (3).txt | 164 \u001b[32m++++++++++\u001b[m\n",
            " tarea-1/CorpusDocs/cine (1).txt             |  26 \u001b[32m++\u001b[m\n",
            " tarea-1/CorpusDocs/cine (2).txt             | 153 \u001b[32m+++++++++\u001b[m\n",
            " tarea-1/CorpusDocs/cine (3).txt             |  19 \u001b[32m++\u001b[m\n",
            " tarea-1/CorpusDocs/coca (1).txt             |   2 \u001b[32m+\u001b[m\n",
            " tarea-1/CorpusDocs/coca (2).txt             |   8 \u001b[32m+\u001b[m\n",
            " tarea-1/CorpusDocs/coca (3).txt             |   9 \u001b[32m+\u001b[m\n",
            " tarea-1/CorpusDocs/coca (4).txt             |   7 \u001b[32m+\u001b[m\n",
            " tarea-1/CorpusDocs/condensador (1).txt      |  21 \u001b[32m++\u001b[m\n",
            " tarea-1/CorpusDocs/condensador (2).txt      |  54 \u001b[32m+++\u001b[m\n",
            " tarea-1/CorpusDocs/condensador (3).txt      | 198 \u001b[32m+++++++++++\u001b[m\n",
            " tarea-1/CorpusDocs/condensador (4).txt      |  94 \u001b[32m++++++\u001b[m\n",
            " tarea-1/CorpusDocs/condensador (5).txt      |  99 \u001b[32m++++++\u001b[m\n",
            " tarea-1/CorpusDocs/condensador (6).txt      |  27 \u001b[32m++\u001b[m\n",
            " tarea-1/CorpusDocs/cuantica (1).txt         |   5 \u001b[32m+\u001b[m\n",
            " tarea-1/CorpusDocs/cuantica (2).txt         |   8 \u001b[32m+\u001b[m\n",
            " tarea-1/CorpusDocs/cuantica (3).txt         |  20 \u001b[32m++\u001b[m\n",
            " tarea-1/CorpusDocs/deporte (1).txt          |  13 \u001b[32m+\u001b[m\n",
            " tarea-1/CorpusDocs/deporte (2).txt          | 281 \u001b[32m++++++++++++++++\u001b[m\n",
            " tarea-1/CorpusDocs/deporte (3).txt          |  27 \u001b[32m++\u001b[m\n",
            " tarea-1/CorpusDocs/ech (1).txt              |   4 \u001b[32m+\u001b[m\n",
            " tarea-1/CorpusDocs/ech (2).txt              |  26 \u001b[32m++\u001b[m\n",
            " tarea-1/CorpusDocs/ech (3).txt              |  20 \u001b[32m++\u001b[m\n",
            " tarea-1/CorpusDocs/economia (1).txt         |  93 \u001b[32m++++++\u001b[m\n",
            " tarea-1/CorpusDocs/economia (2).txt         |  18 \u001b[32m+\u001b[m\n",
            " tarea-1/CorpusDocs/economia (3).txt         |  39 \u001b[32m+++\u001b[m\n",
            " tarea-1/CorpusDocs/economia (4).txt         |  12 \u001b[32m+\u001b[m\n",
            " tarea-1/CorpusDocs/fractal (1).txt          |  13 \u001b[32m+\u001b[m\n",
            " tarea-1/CorpusDocs/fractal (2).txt          |  17 \u001b[32m+\u001b[m\n",
            " tarea-1/CorpusDocs/humano (1).txt           |  10 \u001b[32m+\u001b[m\n",
            " tarea-1/CorpusDocs/humano (2).txt           |   5 \u001b[32m+\u001b[m\n",
            " tarea-1/CorpusDocs/humano (3).txt           |   5 \u001b[32m+\u001b[m\n",
            " tarea-1/CorpusDocs/humano (4).txt           |   6 \u001b[32m+\u001b[m\n",
            " tarea-1/CorpusDocs/ifai (1).txt             |  10 \u001b[32m+\u001b[m\n",
            " tarea-1/CorpusDocs/ifai (2).txt             |  36 \u001b[32m++\u001b[m\n",
            " tarea-1/CorpusDocs/ifai (4).txt             |   6 \u001b[32m+\u001b[m\n",
            " tarea-1/CorpusDocs/mate (1).txt             |   7 \u001b[32m+\u001b[m\n",
            " tarea-1/CorpusDocs/mate (2).txt             |   7 \u001b[32m+\u001b[m\n",
            " tarea-1/CorpusDocs/perro (1).txt            |   3 \u001b[32m+\u001b[m\n",
            " tarea-1/CorpusDocs/perro (2).txt            |   2 \u001b[32m+\u001b[m\n",
            " tarea-1/CorpusDocs/politica (1).txt         |  21 \u001b[32m++\u001b[m\n",
            " tarea-1/CorpusDocs/politica (2).txt         |  48 \u001b[32m+++\u001b[m\n",
            " tarea-1/CorpusDocs/pylori (1).txt           |   8 \u001b[32m+\u001b[m\n",
            " tarea-1/CorpusDocs/pylori (2).txt           |  25 \u001b[32m++\u001b[m\n",
            " tarea-1/CorpusDocs/pylori (3).txt           |  32 \u001b[32m++\u001b[m\n",
            " tarea-1/CorpusDocs/religion (1).txt         |  49 \u001b[32m+++\u001b[m\n",
            " tarea-1/CorpusDocs/religion (10).txt        |  25 \u001b[32m++\u001b[m\n",
            " tarea-1/CorpusDocs/religion (2).txt         |  12 \u001b[32m+\u001b[m\n",
            " tarea-1/CorpusDocs/religion (3).txt         |   5 \u001b[32m+\u001b[m\n",
            " tarea-1/CorpusDocs/religion (4).txt         |   5 \u001b[32m+\u001b[m\n",
            " tarea-1/CorpusDocs/religion (5).txt         |   5 \u001b[32m+\u001b[m\n",
            " tarea-1/CorpusDocs/religion (6).txt         |   6 \u001b[32m+\u001b[m\n",
            " tarea-1/CorpusDocs/religion (7).txt         |  31 \u001b[32m++\u001b[m\n",
            " tarea-1/CorpusDocs/religion (8).txt         |   7 \u001b[32m+\u001b[m\n",
            " tarea-1/CorpusDocs/religion (9).txt         |   8 \u001b[32m+\u001b[m\n",
            " tarea-1/CorpusDocs/sacarosa (1).txt         |  10 \u001b[32m+\u001b[m\n",
            " tarea-1/CorpusDocs/sacarosa (2).txt         |  21 \u001b[32m++\u001b[m\n",
            " tarea-1/CorpusDocs/salmonella (1).txt       |  92 \u001b[32m++++++\u001b[m\n",
            " tarea-1/CorpusDocs/salmonella (2).txt       |  42 \u001b[32m+++\u001b[m\n",
            " tarea-1/CorpusDocs/salmonella (3).txt       |  65 \u001b[32m++++\u001b[m\n",
            " tarea-1/CorpusDocs/sociedad (1).txt         |  49 \u001b[32m+++\u001b[m\n",
            " tarea-1/CorpusDocs/sociedad (2).txt         |  68 \u001b[32m++++\u001b[m\n",
            " tarea-1/CorpusDocs/sociedad (3).txt         |  57 \u001b[32m++++\u001b[m\n",
            " tarea-1/CorpusDocs/sociedad (4).txt         |   5 \u001b[32m+\u001b[m\n",
            " tarea-1/CorpusDocs/sociedad (5).txt         |   8 \u001b[32m+\u001b[m\n",
            " tarea-1/CorpusDocs/sushi (1).txt            |  28 \u001b[32m++\u001b[m\n",
            " tarea-1/CorpusDocs/sushi (2).txt            |  28 \u001b[32m++\u001b[m\n",
            " tarea-1/CorpusDocs/sushi (3).txt            |  28 \u001b[32m++\u001b[m\n",
            " tarea-1/CorpusDocs/taylor (1).txt           |  39 \u001b[32m+++\u001b[m\n",
            " tarea-1/CorpusDocs/taylor (2).txt           |  35 \u001b[32m++\u001b[m\n",
            " tarea-1/CorpusDocs/taylor (3).txt           | 145 \u001b[32m+++++++++\u001b[m\n",
            " tarea-1/CorpusDocs/twitter (1).txt          |  80 \u001b[32m+++++\u001b[m\n",
            " tarea-1/CorpusDocs/twitter (2).txt          |  11 \u001b[32m+\u001b[m\n",
            " tarea-1/CorpusDocs/twitter (3).txt          |  15 \u001b[32m+\u001b[m\n",
            " tarea-1/CorpusDocs/xbox (1).txt             |   7 \u001b[32m+\u001b[m\n",
            " tarea-1/CorpusDocs/xbox (2).txt             |   7 \u001b[32m+\u001b[m\n",
            " tarea-1/CorpusDocs/xbox (3).txt             |   3 \u001b[32m+\u001b[m\n",
            " 100 files changed, 4093 insertions(+)\n",
            " create mode 100644 tarea-1/CorpusDocs/acustica (1).txt\n",
            " create mode 100644 tarea-1/CorpusDocs/acustica (2).txt\n",
            " create mode 100644 tarea-1/CorpusDocs/acustica (3).txt\n",
            " create mode 100644 tarea-1/CorpusDocs/acustica (4).txt\n",
            " create mode 100644 tarea-1/CorpusDocs/amor (1).txt\n",
            " create mode 100644 tarea-1/CorpusDocs/amor (2).txt\n",
            " create mode 100644 tarea-1/CorpusDocs/bieber (1).txt\n",
            " create mode 100644 tarea-1/CorpusDocs/bieber (2).txt\n",
            " create mode 100644 tarea-1/CorpusDocs/bioinfo (1).txt\n",
            " create mode 100644 tarea-1/CorpusDocs/bioinfo (2).txt\n",
            " create mode 100644 tarea-1/CorpusDocs/buchnera (1).txt\n",
            " create mode 100644 tarea-1/CorpusDocs/buchnera (2).txt\n",
            " create mode 100644 tarea-1/CorpusDocs/capoeira (1).txt\n",
            " create mode 100644 tarea-1/CorpusDocs/capoeira (2).txt\n",
            " create mode 100644 tarea-1/CorpusDocs/celula (1).txt\n",
            " create mode 100644 tarea-1/CorpusDocs/celula (2).txt\n",
            " create mode 100644 tarea-1/CorpusDocs/celula (3).txt\n",
            " create mode 100644 tarea-1/CorpusDocs/celula (4).txt\n",
            " create mode 100644 tarea-1/CorpusDocs/celula (5).txt\n",
            " create mode 100644 tarea-1/CorpusDocs/celula (6).txt\n",
            " create mode 100644 tarea-1/CorpusDocs/celula (7).txt\n",
            " create mode 100644 tarea-1/CorpusDocs/ciencia_historia (1).txt\n",
            " create mode 100644 tarea-1/CorpusDocs/ciencia_historia (2).txt\n",
            " create mode 100644 tarea-1/CorpusDocs/ciencia_historia (3).txt\n",
            " create mode 100644 tarea-1/CorpusDocs/cine (1).txt\n",
            " create mode 100644 tarea-1/CorpusDocs/cine (2).txt\n",
            " create mode 100644 tarea-1/CorpusDocs/cine (3).txt\n",
            " create mode 100644 tarea-1/CorpusDocs/coca (1).txt\n",
            " create mode 100644 tarea-1/CorpusDocs/coca (2).txt\n",
            " create mode 100644 tarea-1/CorpusDocs/coca (3).txt\n",
            " create mode 100644 tarea-1/CorpusDocs/coca (4).txt\n",
            " create mode 100644 tarea-1/CorpusDocs/condensador (1).txt\n",
            " create mode 100644 tarea-1/CorpusDocs/condensador (2).txt\n",
            " create mode 100644 tarea-1/CorpusDocs/condensador (3).txt\n",
            " create mode 100644 tarea-1/CorpusDocs/condensador (4).txt\n",
            " create mode 100644 tarea-1/CorpusDocs/condensador (5).txt\n",
            " create mode 100644 tarea-1/CorpusDocs/condensador (6).txt\n",
            " create mode 100644 tarea-1/CorpusDocs/cuantica (1).txt\n",
            " create mode 100644 tarea-1/CorpusDocs/cuantica (2).txt\n",
            " create mode 100644 tarea-1/CorpusDocs/cuantica (3).txt\n",
            " create mode 100644 tarea-1/CorpusDocs/deporte (1).txt\n",
            " create mode 100644 tarea-1/CorpusDocs/deporte (2).txt\n",
            " create mode 100644 tarea-1/CorpusDocs/deporte (3).txt\n",
            " create mode 100644 tarea-1/CorpusDocs/ech (1).txt\n",
            " create mode 100644 tarea-1/CorpusDocs/ech (2).txt\n",
            " create mode 100644 tarea-1/CorpusDocs/ech (3).txt\n",
            " create mode 100644 tarea-1/CorpusDocs/economia (1).txt\n",
            " create mode 100644 tarea-1/CorpusDocs/economia (2).txt\n",
            " create mode 100644 tarea-1/CorpusDocs/economia (3).txt\n",
            " create mode 100644 tarea-1/CorpusDocs/economia (4).txt\n",
            " create mode 100644 tarea-1/CorpusDocs/fractal (1).txt\n",
            " create mode 100644 tarea-1/CorpusDocs/fractal (2).txt\n",
            " create mode 100644 tarea-1/CorpusDocs/humano (1).txt\n",
            " create mode 100644 tarea-1/CorpusDocs/humano (2).txt\n",
            " create mode 100644 tarea-1/CorpusDocs/humano (3).txt\n",
            " create mode 100644 tarea-1/CorpusDocs/humano (4).txt\n",
            " create mode 100644 tarea-1/CorpusDocs/ifai (1).txt\n",
            " create mode 100644 tarea-1/CorpusDocs/ifai (2).txt\n",
            " create mode 100644 tarea-1/CorpusDocs/ifai (4).txt\n",
            " create mode 100644 tarea-1/CorpusDocs/mate (1).txt\n",
            " create mode 100644 tarea-1/CorpusDocs/mate (2).txt\n",
            " create mode 100644 tarea-1/CorpusDocs/perro (1).txt\n",
            " create mode 100644 tarea-1/CorpusDocs/perro (2).txt\n",
            " create mode 100644 tarea-1/CorpusDocs/politica (1).txt\n",
            " create mode 100644 tarea-1/CorpusDocs/politica (2).txt\n",
            " create mode 100644 tarea-1/CorpusDocs/pylori (1).txt\n",
            " create mode 100644 tarea-1/CorpusDocs/pylori (2).txt\n",
            " create mode 100644 tarea-1/CorpusDocs/pylori (3).txt\n",
            " create mode 100644 tarea-1/CorpusDocs/religion (1).txt\n",
            " create mode 100644 tarea-1/CorpusDocs/religion (10).txt\n",
            " create mode 100644 tarea-1/CorpusDocs/religion (2).txt\n",
            " create mode 100644 tarea-1/CorpusDocs/religion (3).txt\n",
            " create mode 100644 tarea-1/CorpusDocs/religion (4).txt\n",
            " create mode 100644 tarea-1/CorpusDocs/religion (5).txt\n",
            " create mode 100644 tarea-1/CorpusDocs/religion (6).txt\n",
            " create mode 100644 tarea-1/CorpusDocs/religion (7).txt\n",
            " create mode 100644 tarea-1/CorpusDocs/religion (8).txt\n",
            " create mode 100644 tarea-1/CorpusDocs/religion (9).txt\n",
            " create mode 100644 tarea-1/CorpusDocs/sacarosa (1).txt\n",
            " create mode 100644 tarea-1/CorpusDocs/sacarosa (2).txt\n",
            " create mode 100644 tarea-1/CorpusDocs/salmonella (1).txt\n",
            " create mode 100644 tarea-1/CorpusDocs/salmonella (2).txt\n",
            " create mode 100644 tarea-1/CorpusDocs/salmonella (3).txt\n",
            " create mode 100644 tarea-1/CorpusDocs/sociedad (1).txt\n",
            " create mode 100644 tarea-1/CorpusDocs/sociedad (2).txt\n",
            " create mode 100644 tarea-1/CorpusDocs/sociedad (3).txt\n",
            " create mode 100644 tarea-1/CorpusDocs/sociedad (4).txt\n",
            " create mode 100644 tarea-1/CorpusDocs/sociedad (5).txt\n",
            " create mode 100644 tarea-1/CorpusDocs/sushi (1).txt\n",
            " create mode 100644 tarea-1/CorpusDocs/sushi (2).txt\n",
            " create mode 100644 tarea-1/CorpusDocs/sushi (3).txt\n",
            " create mode 100644 tarea-1/CorpusDocs/taylor (1).txt\n",
            " create mode 100644 tarea-1/CorpusDocs/taylor (2).txt\n",
            " create mode 100644 tarea-1/CorpusDocs/taylor (3).txt\n",
            " create mode 100644 tarea-1/CorpusDocs/twitter (1).txt\n",
            " create mode 100644 tarea-1/CorpusDocs/twitter (2).txt\n",
            " create mode 100644 tarea-1/CorpusDocs/twitter (3).txt\n",
            " create mode 100644 tarea-1/CorpusDocs/xbox (1).txt\n",
            " create mode 100644 tarea-1/CorpusDocs/xbox (2).txt\n",
            " create mode 100644 tarea-1/CorpusDocs/xbox (3).txt\n"
          ],
          "name": "stdout"
        }
      ]
    }
  ]
}